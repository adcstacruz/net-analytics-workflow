{
 "cells": [
  {
   "cell_type": "markdown",
   "metadata": {},
   "source": [
    "# Future Email Connections\n",
    "\n",
    "**Note**: This problem is one of the assignments in [`Applied Social Network Analysis in Python`](https://www.coursera.org/learn/python-social-network-analysis).\n",
    "\n",
    "**Goal**: Predict the employees who will more likely have an email exchange in the future. \n",
    "\n",
    "**Problem statement**: It's not indicated in the problem. This specific use case can be used for organizational analysis. \n",
    "\n",
    "**What we have**: \n",
    "\n",
    "- company's email network\n",
    "    - nodes: employees\n",
    "    - edges: having at least one email exchange between employees\n",
    "- \"future\" connections data:\n",
    "    - connections that were established after the creation of the email network\n",
    "    - values: 1-connected, 0-not connected\n",
    "    \n",
    "Outline:\n",
    "1. Importing packages and initial preprocessing\n",
    "2. [Feature engineering](#sec_fe)\n",
    "3. [Modeling](#sec_mod)\n",
    "4. [Assessing models](#sec_am)\n",
    "5. [Feature analysis](#sec_fa)\n",
    "\n",
    "Note: Pipeline components and different parameters were not exhausted. Again, the purpose of this is to establish a structure where other collaborators can work on top. "
   ]
  },
  {
   "cell_type": "markdown",
   "metadata": {},
   "source": [
    "## Import packages"
   ]
  },
  {
   "cell_type": "code",
   "execution_count": 1,
   "metadata": {},
   "outputs": [],
   "source": [
    "import os\n",
    "\n",
    "import pandas as pd\n",
    "import networkx as nx\n",
    "\n",
    "import shap\n",
    "\n",
    "from sklearn.base import BaseEstimator, TransformerMixin\n",
    "from sklearn.compose import make_column_transformer\n",
    "from sklearn.pipeline import FeatureUnion, Pipeline\n",
    "\n",
    "from sklearn.model_selection import GridSearchCV, train_test_split\n",
    "from sklearn.ensemble import RandomForestClassifier"
   ]
  },
  {
   "cell_type": "markdown",
   "metadata": {},
   "source": [
    "## User-defined parameters"
   ]
  },
  {
   "cell_type": "code",
   "execution_count": 2,
   "metadata": {},
   "outputs": [],
   "source": [
    "# data path params\n",
    "DATA_DIR = os.path.join(os.pardir, 'data')\n",
    "\n",
    "GRAPH_FILE_NAME = 'email_prediction.txt' # company email network\n",
    "CON_FILE_NAME = 'Future_Connections.csv' # future connections data\n",
    "\n",
    "graph_file_path = os.path.join(DATA_DIR, GRAPH_FILE_NAME)\n",
    "con_file_path = os.path.join(DATA_DIR, CON_FILE_NAME)\n",
    "\n",
    "\n",
    "# graph params\n",
    "community_name = 'Department'\n",
    "response = 'connected'\n",
    "\n",
    "\n",
    "# model params\n",
    "random_state = 3\n",
    "n_jobs = -1 # used generally throughout the code\n",
    "cv = 5\n",
    "scoring='roc_auc' # grid search evaluation metric"
   ]
  },
  {
   "cell_type": "markdown",
   "metadata": {},
   "source": [
    "## Loading the Data"
   ]
  },
  {
   "cell_type": "code",
   "execution_count": 3,
   "metadata": {},
   "outputs": [],
   "source": [
    "# company email network\n",
    "graph = nx.read_gpickle(graph_file_path)\n",
    "\n",
    "# future connections data\n",
    "con_df = pd.read_csv(con_file_path, index_col=0, converters={0: eval})"
   ]
  },
  {
   "cell_type": "markdown",
   "metadata": {},
   "source": [
    "#### Let's check the connections dataframe"
   ]
  },
  {
   "cell_type": "code",
   "execution_count": 4,
   "metadata": {},
   "outputs": [
    {
     "data": {
      "text/html": [
       "<div>\n",
       "<style scoped>\n",
       "    .dataframe tbody tr th:only-of-type {\n",
       "        vertical-align: middle;\n",
       "    }\n",
       "\n",
       "    .dataframe tbody tr th {\n",
       "        vertical-align: top;\n",
       "    }\n",
       "\n",
       "    .dataframe thead th {\n",
       "        text-align: right;\n",
       "    }\n",
       "</style>\n",
       "<table border=\"1\" class=\"dataframe\">\n",
       "  <thead>\n",
       "    <tr style=\"text-align: right;\">\n",
       "      <th></th>\n",
       "      <th>Future Connection</th>\n",
       "    </tr>\n",
       "  </thead>\n",
       "  <tbody>\n",
       "    <tr>\n",
       "      <th>(6, 840)</th>\n",
       "      <td>0.0</td>\n",
       "    </tr>\n",
       "    <tr>\n",
       "      <th>(4, 197)</th>\n",
       "      <td>0.0</td>\n",
       "    </tr>\n",
       "    <tr>\n",
       "      <th>(620, 979)</th>\n",
       "      <td>0.0</td>\n",
       "    </tr>\n",
       "  </tbody>\n",
       "</table>\n",
       "</div>"
      ],
      "text/plain": [
       "            Future Connection\n",
       "(6, 840)                  0.0\n",
       "(4, 197)                  0.0\n",
       "(620, 979)                0.0"
      ]
     },
     "execution_count": 4,
     "metadata": {},
     "output_type": "execute_result"
    }
   ],
   "source": [
    "con_df.head(3)"
   ]
  },
  {
   "cell_type": "markdown",
   "metadata": {},
   "source": [
    "Fixing the indices and column names"
   ]
  },
  {
   "cell_type": "code",
   "execution_count": 5,
   "metadata": {},
   "outputs": [],
   "source": [
    "con_df.reset_index(inplace=True)\n",
    "con_df.rename(columns={'index': 'edge', 'Future Connection': response}, inplace=True)"
   ]
  },
  {
   "cell_type": "code",
   "execution_count": 6,
   "metadata": {},
   "outputs": [
    {
     "data": {
      "text/html": [
       "<div>\n",
       "<style scoped>\n",
       "    .dataframe tbody tr th:only-of-type {\n",
       "        vertical-align: middle;\n",
       "    }\n",
       "\n",
       "    .dataframe tbody tr th {\n",
       "        vertical-align: top;\n",
       "    }\n",
       "\n",
       "    .dataframe thead th {\n",
       "        text-align: right;\n",
       "    }\n",
       "</style>\n",
       "<table border=\"1\" class=\"dataframe\">\n",
       "  <thead>\n",
       "    <tr style=\"text-align: right;\">\n",
       "      <th></th>\n",
       "      <th>edge</th>\n",
       "      <th>connected</th>\n",
       "    </tr>\n",
       "  </thead>\n",
       "  <tbody>\n",
       "    <tr>\n",
       "      <th>0</th>\n",
       "      <td>(6, 840)</td>\n",
       "      <td>0.0</td>\n",
       "    </tr>\n",
       "    <tr>\n",
       "      <th>1</th>\n",
       "      <td>(4, 197)</td>\n",
       "      <td>0.0</td>\n",
       "    </tr>\n",
       "    <tr>\n",
       "      <th>2</th>\n",
       "      <td>(620, 979)</td>\n",
       "      <td>0.0</td>\n",
       "    </tr>\n",
       "  </tbody>\n",
       "</table>\n",
       "</div>"
      ],
      "text/plain": [
       "         edge  connected\n",
       "0    (6, 840)        0.0\n",
       "1    (4, 197)        0.0\n",
       "2  (620, 979)        0.0"
      ]
     },
     "execution_count": 6,
     "metadata": {},
     "output_type": "execute_result"
    }
   ],
   "source": [
    "con_df.head(3)"
   ]
  },
  {
   "cell_type": "markdown",
   "metadata": {},
   "source": [
    "Sample intances"
   ]
  },
  {
   "cell_type": "code",
   "execution_count": 7,
   "metadata": {},
   "outputs": [
    {
     "data": {
      "text/html": [
       "<div>\n",
       "<style scoped>\n",
       "    .dataframe tbody tr th:only-of-type {\n",
       "        vertical-align: middle;\n",
       "    }\n",
       "\n",
       "    .dataframe tbody tr th {\n",
       "        vertical-align: top;\n",
       "    }\n",
       "\n",
       "    .dataframe thead th {\n",
       "        text-align: right;\n",
       "    }\n",
       "</style>\n",
       "<table border=\"1\" class=\"dataframe\">\n",
       "  <thead>\n",
       "    <tr style=\"text-align: right;\">\n",
       "      <th></th>\n",
       "      <th>edge</th>\n",
       "      <th>connected</th>\n",
       "    </tr>\n",
       "  </thead>\n",
       "  <tbody>\n",
       "    <tr>\n",
       "      <th>5</th>\n",
       "      <td>(97, 226)</td>\n",
       "      <td>1.0</td>\n",
       "    </tr>\n",
       "    <tr>\n",
       "      <th>16</th>\n",
       "      <td>(342, 473)</td>\n",
       "      <td>1.0</td>\n",
       "    </tr>\n",
       "    <tr>\n",
       "      <th>0</th>\n",
       "      <td>(6, 840)</td>\n",
       "      <td>0.0</td>\n",
       "    </tr>\n",
       "    <tr>\n",
       "      <th>1</th>\n",
       "      <td>(4, 197)</td>\n",
       "      <td>0.0</td>\n",
       "    </tr>\n",
       "  </tbody>\n",
       "</table>\n",
       "</div>"
      ],
      "text/plain": [
       "          edge  connected\n",
       "5    (97, 226)        1.0\n",
       "16  (342, 473)        1.0\n",
       "0     (6, 840)        0.0\n",
       "1     (4, 197)        0.0"
      ]
     },
     "execution_count": 7,
     "metadata": {},
     "output_type": "execute_result"
    }
   ],
   "source": [
    "pd.concat([\n",
    "    con_df[con_df[response] == 1].head(2),\n",
    "    con_df[con_df[response] == 0].head(2)\n",
    "])"
   ]
  },
  {
   "cell_type": "markdown",
   "metadata": {},
   "source": [
    "Distribution of connections that were established"
   ]
  },
  {
   "cell_type": "code",
   "execution_count": 8,
   "metadata": {},
   "outputs": [
    {
     "data": {
      "text/plain": [
       "0.0    337002\n",
       "1.0     29332\n",
       "Name: connected, dtype: int64"
      ]
     },
     "execution_count": 8,
     "metadata": {},
     "output_type": "execute_result"
    }
   ],
   "source": [
    "con_df[response].value_counts()"
   ]
  },
  {
   "cell_type": "markdown",
   "metadata": {},
   "source": [
    "Dropping instances with null `connected` values"
   ]
  },
  {
   "cell_type": "code",
   "execution_count": 9,
   "metadata": {},
   "outputs": [
    {
     "data": {
      "text/plain": [
       "edge              0\n",
       "connected    122112\n",
       "dtype: int64"
      ]
     },
     "execution_count": 9,
     "metadata": {},
     "output_type": "execute_result"
    }
   ],
   "source": [
    "con_df.isnull().sum()"
   ]
  },
  {
   "cell_type": "code",
   "execution_count": 10,
   "metadata": {},
   "outputs": [],
   "source": [
    "con_df.dropna(subset=[response], inplace=True)"
   ]
  },
  {
   "cell_type": "code",
   "execution_count": 11,
   "metadata": {},
   "outputs": [
    {
     "name": "stdout",
     "output_type": "stream",
     "text": [
      "<class 'pandas.core.frame.DataFrame'>\n",
      "Int64Index: 366334 entries, 0 to 366333\n",
      "Data columns (total 2 columns):\n",
      " #   Column     Non-Null Count   Dtype  \n",
      "---  ------     --------------   -----  \n",
      " 0   edge       366334 non-null  object \n",
      " 1   connected  366334 non-null  float64\n",
      "dtypes: float64(1), object(1)\n",
      "memory usage: 8.4+ MB\n"
     ]
    }
   ],
   "source": [
    "con_df.info()"
   ]
  },
  {
   "cell_type": "markdown",
   "metadata": {},
   "source": [
    "#### Let's check some graph details\n",
    "\n",
    "Graph type"
   ]
  },
  {
   "cell_type": "code",
   "execution_count": 12,
   "metadata": {},
   "outputs": [
    {
     "data": {
      "text/plain": [
       "networkx.classes.graph.Graph"
      ]
     },
     "execution_count": 12,
     "metadata": {},
     "output_type": "execute_result"
    }
   ],
   "source": [
    "type(graph)"
   ]
  },
  {
   "cell_type": "code",
   "execution_count": 13,
   "metadata": {},
   "outputs": [
    {
     "data": {
      "text/plain": [
       "False"
      ]
     },
     "execution_count": 13,
     "metadata": {},
     "output_type": "execute_result"
    }
   ],
   "source": [
    "graph.is_directed()"
   ]
  },
  {
   "cell_type": "markdown",
   "metadata": {},
   "source": [
    "Basic information"
   ]
  },
  {
   "cell_type": "code",
   "execution_count": 14,
   "metadata": {},
   "outputs": [
    {
     "name": "stdout",
     "output_type": "stream",
     "text": [
      "Name: \n",
      "Type: Graph\n",
      "Number of nodes: 1005\n",
      "Number of edges: 16706\n",
      "Average degree:  33.2458\n"
     ]
    }
   ],
   "source": [
    "print(nx.info(graph))"
   ]
  },
  {
   "cell_type": "markdown",
   "metadata": {},
   "source": [
    "Edges and nodes"
   ]
  },
  {
   "cell_type": "code",
   "execution_count": 15,
   "metadata": {},
   "outputs": [
    {
     "data": {
      "text/html": [
       "[(0, 1), (0, 17), (0, 316)]"
      ],
      "text/plain": [
       "[(0, 1), (0, 17), (0, 316)]"
      ]
     },
     "execution_count": 15,
     "metadata": {},
     "output_type": "execute_result"
    }
   ],
   "source": [
    "graph.edges()[0:3]"
   ]
  },
  {
   "cell_type": "code",
   "execution_count": 16,
   "metadata": {},
   "outputs": [
    {
     "data": {
      "text/html": [
       "[0, 1, 2]"
      ],
      "text/plain": [
       "[0, 1, 2]"
      ]
     },
     "execution_count": 16,
     "metadata": {},
     "output_type": "execute_result"
    }
   ],
   "source": [
    "graph.nodes()[0:3]"
   ]
  },
  {
   "cell_type": "code",
   "execution_count": 17,
   "metadata": {},
   "outputs": [
    {
     "data": {
      "text/html": [
       "[(0, {'Department': 1, 'ManagementSalary': 0.0}), (1, {'Department': 1, 'ManagementSalary': nan}), (2, {'Department': 21, 'ManagementSalary': nan})]"
      ],
      "text/plain": [
       "[(0, {'Department': 1, 'ManagementSalary': 0.0}),\n",
       " (1, {'Department': 1, 'ManagementSalary': nan}),\n",
       " (2, {'Department': 21, 'ManagementSalary': nan})]"
      ]
     },
     "execution_count": 17,
     "metadata": {},
     "output_type": "execute_result"
    }
   ],
   "source": [
    "graph.nodes(data=True)[0:3]"
   ]
  },
  {
   "cell_type": "markdown",
   "metadata": {},
   "source": [
    "The attributes are 'Department' and 'ManagementSalary'. We're only concerned with the 'Deparment' attribute since this will be used as community infomration. "
   ]
  },
  {
   "cell_type": "markdown",
   "metadata": {},
   "source": [
    "## Splitting the data"
   ]
  },
  {
   "cell_type": "code",
   "execution_count": 18,
   "metadata": {},
   "outputs": [],
   "source": [
    "X_train, X_test, y_train, y_test = train_test_split(\n",
    "    con_df.drop(labels=[response], axis=1),\n",
    "    con_df[response],\n",
    "    test_size=0.2,\n",
    "    random_state=random_state,\n",
    "    stratify=con_df[[response]]\n",
    ")"
   ]
  },
  {
   "cell_type": "markdown",
   "metadata": {},
   "source": [
    "<a id='sec_fe'></a>\n",
    "## Feature Engineering"
   ]
  },
  {
   "cell_type": "markdown",
   "metadata": {},
   "source": [
    "This section focuses on building custom transformers for extracting:\n",
    "* purely edge features (`edge features`)\n",
    "* community-based edge features (`com features`)\n",
    "\n",
    "In this initial run, we'll explore the performance of the models trained on: only `edge features`, only `com features`, and both. \n",
    "\n",
    "If there are additional feature extractions discovered, just append a key-value pair of the function name and the function itself to `valid_extractors`. Then, add the function name when using the custom transformer. Note: this assumes that the new function follows the conventional syntax of the currently implemented extractors.\n",
    "\n",
    "#### Custom Transformer: purely edge features"
   ]
  },
  {
   "cell_type": "code",
   "execution_count": 19,
   "metadata": {},
   "outputs": [],
   "source": [
    "class EdgeFeaturesTransformer(BaseEstimator, TransformerMixin):\n",
    "    \n",
    "    valid_extractors = {\n",
    "        'jaccard': nx.jaccard_coefficient, \n",
    "        'r_alloc': nx.resource_allocation_index,\n",
    "        'p_attach': nx.preferential_attachment,\n",
    "        # add feature extractors here\n",
    "    }\n",
    "\n",
    "\n",
    "    def __init__(self, graph, func_names):\n",
    "        super().__init__()\n",
    "        \n",
    "        assert sum([(func_name not in self.valid_extractors.keys()) for func_name in func_names]) == 0,\\\n",
    "            f'invalid graph function set, valid options are {valid_extractors.keys()}'\n",
    "        \n",
    "        self.func_names = func_names\n",
    "        self.graph = graph\n",
    "    \n",
    "\n",
    "    def fit(self, X, y=None):\n",
    "        return self\n",
    "\n",
    "        \n",
    "    def transform(self, X, y=None):\n",
    "        \n",
    "        result_df = pd.DataFrame()\n",
    "\n",
    "        for func_name in self.func_names:\n",
    "            func = self.valid_extractors[func_name]\n",
    "            computed_df = pd.DataFrame(\n",
    "                    [i[2] for i in func(graph, X['edge'])], \n",
    "                    columns=[func_name]\n",
    "                )\n",
    "            result_df = pd.concat([result_df, computed_df], axis=1)\n",
    "        \n",
    "            \n",
    "        return result_df\n",
    "    \n",
    "    def get_feature_names(self):\n",
    "        return self.func_names"
   ]
  },
  {
   "cell_type": "markdown",
   "metadata": {},
   "source": [
    "#### Custom Transformer: community-based edge features "
   ]
  },
  {
   "cell_type": "code",
   "execution_count": 20,
   "metadata": {},
   "outputs": [],
   "source": [
    "class ComFeaturesTransformer(BaseEstimator, TransformerMixin):\n",
    "    \n",
    "    valid_extractors = {\n",
    "        'cn_sh': nx.cn_soundarajan_hopcroft,\n",
    "        'ra_sh': nx.ra_index_soundarajan_hopcroft,\n",
    "    }\n",
    "\n",
    "\n",
    "    def __init__(self, graph, func_names, community_name):\n",
    "        super().__init__()\n",
    "        \n",
    "        assert sum([(func_name not in self.valid_extractors.keys()) for func_name in func_names]) == 0,\\\n",
    "            f'invalid graph function set, valid options are {valid_extractors.keys()}'\n",
    "        \n",
    "        self.func_names = func_names\n",
    "        self.community_name = community_name\n",
    "        self.graph = graph\n",
    "    \n",
    "\n",
    "    def fit(self, X, y=None):\n",
    "        return self\n",
    "\n",
    "        \n",
    "    def transform(self, X, y=None):\n",
    "        \n",
    "        result_df = pd.DataFrame()\n",
    "\n",
    "        for func_name in self.func_names:\n",
    "            func = self.valid_extractors[func_name]\n",
    "            \n",
    "            values = list(func(self.graph, community=self.community_name))\n",
    "            \n",
    "            node_value_dict = {(node_a, node_b): value for node_a, node_b, value in values}\n",
    "            node_value_dict_r = {(node_b, node_a): value for node_a, node_b, value in values}\n",
    "            node_value_dict.update(node_value_dict_r)\n",
    "            \n",
    "            computed_df = X['edge'].map(lambda x:node_value_dict[x])\n",
    "            \n",
    "            result_df = pd.concat([result_df, computed_df], axis=1)\n",
    "        \n",
    "            \n",
    "        return result_df\n",
    "    \n",
    "\n",
    "    def get_feature_names(self):\n",
    "        return self.func_names"
   ]
  },
  {
   "cell_type": "markdown",
   "metadata": {},
   "source": [
    "<a id='sec_mod'></a>\n",
    "## Modeling"
   ]
  },
  {
   "cell_type": "markdown",
   "metadata": {},
   "source": [
    "### Building pipelines"
   ]
  },
  {
   "cell_type": "markdown",
   "metadata": {},
   "source": [
    "#### Transformers"
   ]
  },
  {
   "cell_type": "code",
   "execution_count": 21,
   "metadata": {},
   "outputs": [],
   "source": [
    "edge_transformers = make_column_transformer(\n",
    "    (EdgeFeaturesTransformer(graph, ['jaccard', 'r_alloc', 'p_attach']), ['edge']),\n",
    "    # add other transformers here\n",
    "    n_jobs=n_jobs\n",
    ")\n",
    "\n",
    "com_transformers = make_column_transformer(\n",
    "    (ComFeaturesTransformer(graph, ['cn_sh', 'ra_sh'], community_name), ['edge']),\n",
    "    n_jobs=n_jobs\n",
    ")"
   ]
  },
  {
   "cell_type": "markdown",
   "metadata": {},
   "source": [
    "#### Model\n",
    "\n",
    "Settling with random forest classifier only for now. Again, the focus is more on the feature engineering part. If there are other models to be considered, just add them in when building the [pipelines](#subsec_pipe). When adding new models, also add the hyper-parameter grid values for that specific model under this [subsection](#subsec_grid_param). "
   ]
  },
  {
   "cell_type": "code",
   "execution_count": 22,
   "metadata": {},
   "outputs": [],
   "source": [
    "rf_clf = RandomForestClassifier(\n",
    "    random_state=random_state,\n",
    "    warm_start=True\n",
    ")"
   ]
  },
  {
   "cell_type": "markdown",
   "metadata": {},
   "source": [
    "<a id='subsec_pipe'></a>\n",
    "#### Pipelines"
   ]
  },
  {
   "cell_type": "code",
   "execution_count": 23,
   "metadata": {},
   "outputs": [],
   "source": [
    "# pipeline utilizing only the edge features\n",
    "pipeline_e = Pipeline([\n",
    "    ('preprocessor', edge_transformers),\n",
    "    ('rf_clf', rf_clf) # add other models here\n",
    "]) \n",
    "\n",
    "# pipeline utilizing only the community-based edge features\n",
    "pipeline_c = Pipeline([\n",
    "    ('preprocessor', com_transformers),\n",
    "    ('rf_clf', rf_clf)\n",
    "]) \n",
    "\n",
    "# pipeline utilizing both.\n",
    "union = FeatureUnion([\n",
    "    ('edge', edge_transformers),\n",
    "    ('com', com_transformers)\n",
    "])\n",
    "\n",
    "pipeline_ec = Pipeline([\n",
    "    ('preprocessor', union),\n",
    "    ('rf_clf', rf_clf)\n",
    "]) "
   ]
  },
  {
   "cell_type": "markdown",
   "metadata": {},
   "source": [
    "#### Visualize the pipelines"
   ]
  },
  {
   "cell_type": "code",
   "execution_count": 24,
   "metadata": {},
   "outputs": [],
   "source": [
    "from sklearn import set_config\n",
    "\n",
    "set_config(display='diagram')"
   ]
  },
  {
   "cell_type": "code",
   "execution_count": 25,
   "metadata": {},
   "outputs": [
    {
     "data": {
      "text/html": [
       "<style>div.sk-top-container {color: black;background-color: white;}div.sk-toggleable {background-color: white;}label.sk-toggleable__label {cursor: pointer;display: block;width: 100%;margin-bottom: 0;padding: 0.2em 0.3em;box-sizing: border-box;text-align: center;}div.sk-toggleable__content {max-height: 0;max-width: 0;overflow: hidden;text-align: left;background-color: #f0f8ff;}div.sk-toggleable__content pre {margin: 0.2em;color: black;border-radius: 0.25em;background-color: #f0f8ff;}input.sk-toggleable__control:checked~div.sk-toggleable__content {max-height: 200px;max-width: 100%;overflow: auto;}div.sk-estimator input.sk-toggleable__control:checked~label.sk-toggleable__label {background-color: #d4ebff;}div.sk-label input.sk-toggleable__control:checked~label.sk-toggleable__label {background-color: #d4ebff;}input.sk-hidden--visually {border: 0;clip: rect(1px 1px 1px 1px);clip: rect(1px, 1px, 1px, 1px);height: 1px;margin: -1px;overflow: hidden;padding: 0;position: absolute;width: 1px;}div.sk-estimator {font-family: monospace;background-color: #f0f8ff;margin: 0.25em 0.25em;border: 1px dotted black;border-radius: 0.25em;box-sizing: border-box;}div.sk-estimator:hover {background-color: #d4ebff;}div.sk-parallel-item::after {content: \"\";width: 100%;border-bottom: 1px solid gray;flex-grow: 1;}div.sk-label:hover label.sk-toggleable__label {background-color: #d4ebff;}div.sk-serial::before {content: \"\";position: absolute;border-left: 1px solid gray;box-sizing: border-box;top: 2em;bottom: 0;left: 50%;}div.sk-serial {display: flex;flex-direction: column;align-items: center;background-color: white;}div.sk-item {z-index: 1;}div.sk-parallel {display: flex;align-items: stretch;justify-content: center;background-color: white;}div.sk-parallel-item {display: flex;flex-direction: column;position: relative;background-color: white;}div.sk-parallel-item:first-child::after {align-self: flex-end;width: 50%;}div.sk-parallel-item:last-child::after {align-self: flex-start;width: 50%;}div.sk-parallel-item:only-child::after {width: 0;}div.sk-dashed-wrapped {border: 1px dashed gray;margin: 0.2em;box-sizing: border-box;padding-bottom: 0.1em;background-color: white;position: relative;}div.sk-label label {font-family: monospace;font-weight: bold;background-color: white;display: inline-block;line-height: 1.2em;}div.sk-label-container {position: relative;z-index: 2;text-align: center;}div.sk-container {display: inline-block;position: relative;}</style><div class=\"sk-top-container\"><div class=\"sk-container\"><div class=\"sk-item sk-dashed-wrapped\"><div class=\"sk-label-container\"><div class=\"sk-label sk-toggleable\"><input class=\"sk-toggleable__control sk-hidden--visually\" id=\"a870acf2-6604-43e8-a4d2-571fa878de25\" type=\"checkbox\" ><label class=\"sk-toggleable__label\" for=\"a870acf2-6604-43e8-a4d2-571fa878de25\">Pipeline</label><div class=\"sk-toggleable__content\"><pre>Pipeline(steps=[('preprocessor',\n",
       "                 ColumnTransformer(n_jobs=-1,\n",
       "                                   transformers=[('edgefeaturestransformer',\n",
       "                                                  EdgeFeaturesTransformer(func_names=['jaccard',\n",
       "                                                                                      'r_alloc',\n",
       "                                                                                      'p_attach'],\n",
       "                                                                          graph=<networkx.classes.graph.Graph object at 0x7fcb78cc6128>),\n",
       "                                                  ['edge'])])),\n",
       "                ('rf_clf',\n",
       "                 RandomForestClassifier(random_state=3, warm_start=True))])</pre></div></div></div><div class=\"sk-serial\"><div class=\"sk-item sk-dashed-wrapped\"><div class=\"sk-label-container\"><div class=\"sk-label sk-toggleable\"><input class=\"sk-toggleable__control sk-hidden--visually\" id=\"5cd266e0-5766-4186-9786-68fddb9dd102\" type=\"checkbox\" ><label class=\"sk-toggleable__label\" for=\"5cd266e0-5766-4186-9786-68fddb9dd102\">preprocessor: ColumnTransformer</label><div class=\"sk-toggleable__content\"><pre>ColumnTransformer(n_jobs=-1,\n",
       "                  transformers=[('edgefeaturestransformer',\n",
       "                                 EdgeFeaturesTransformer(func_names=['jaccard',\n",
       "                                                                     'r_alloc',\n",
       "                                                                     'p_attach'],\n",
       "                                                         graph=<networkx.classes.graph.Graph object at 0x7fcb78cc6128>),\n",
       "                                 ['edge'])])</pre></div></div></div><div class=\"sk-parallel\"><div class=\"sk-parallel-item\"><div class=\"sk-item\"><div class=\"sk-label-container\"><div class=\"sk-label sk-toggleable\"><input class=\"sk-toggleable__control sk-hidden--visually\" id=\"c5efb823-369b-48a3-8a20-99440c4f3702\" type=\"checkbox\" ><label class=\"sk-toggleable__label\" for=\"c5efb823-369b-48a3-8a20-99440c4f3702\">edgefeaturestransformer</label><div class=\"sk-toggleable__content\"><pre>['edge']</pre></div></div></div><div class=\"sk-serial\"><div class=\"sk-item\"><div class=\"sk-estimator sk-toggleable\"><input class=\"sk-toggleable__control sk-hidden--visually\" id=\"15ec0c6a-5130-413f-8a0e-2cd8c6737664\" type=\"checkbox\" ><label class=\"sk-toggleable__label\" for=\"15ec0c6a-5130-413f-8a0e-2cd8c6737664\">EdgeFeaturesTransformer</label><div class=\"sk-toggleable__content\"><pre>EdgeFeaturesTransformer(func_names=['jaccard', 'r_alloc', 'p_attach'],\n",
       "                        graph=<networkx.classes.graph.Graph object at 0x7fcb78cc6128>)</pre></div></div></div></div></div></div></div></div><div class=\"sk-item\"><div class=\"sk-estimator sk-toggleable\"><input class=\"sk-toggleable__control sk-hidden--visually\" id=\"30f767ac-7034-4256-acbc-cf67ccc6aace\" type=\"checkbox\" ><label class=\"sk-toggleable__label\" for=\"30f767ac-7034-4256-acbc-cf67ccc6aace\">RandomForestClassifier</label><div class=\"sk-toggleable__content\"><pre>RandomForestClassifier(random_state=3, warm_start=True)</pre></div></div></div></div></div></div></div>"
      ],
      "text/plain": [
       "Pipeline(steps=[('preprocessor',\n",
       "                 ColumnTransformer(n_jobs=-1,\n",
       "                                   transformers=[('edgefeaturestransformer',\n",
       "                                                  EdgeFeaturesTransformer(func_names=['jaccard',\n",
       "                                                                                      'r_alloc',\n",
       "                                                                                      'p_attach'],\n",
       "                                                                          graph=<networkx.classes.graph.Graph object at 0x7fcb78cc6128>),\n",
       "                                                  ['edge'])])),\n",
       "                ('rf_clf',\n",
       "                 RandomForestClassifier(random_state=3, warm_start=True))])"
      ]
     },
     "execution_count": 25,
     "metadata": {},
     "output_type": "execute_result"
    }
   ],
   "source": [
    "pipeline_e"
   ]
  },
  {
   "cell_type": "code",
   "execution_count": 26,
   "metadata": {},
   "outputs": [
    {
     "data": {
      "text/html": [
       "<style>div.sk-top-container {color: black;background-color: white;}div.sk-toggleable {background-color: white;}label.sk-toggleable__label {cursor: pointer;display: block;width: 100%;margin-bottom: 0;padding: 0.2em 0.3em;box-sizing: border-box;text-align: center;}div.sk-toggleable__content {max-height: 0;max-width: 0;overflow: hidden;text-align: left;background-color: #f0f8ff;}div.sk-toggleable__content pre {margin: 0.2em;color: black;border-radius: 0.25em;background-color: #f0f8ff;}input.sk-toggleable__control:checked~div.sk-toggleable__content {max-height: 200px;max-width: 100%;overflow: auto;}div.sk-estimator input.sk-toggleable__control:checked~label.sk-toggleable__label {background-color: #d4ebff;}div.sk-label input.sk-toggleable__control:checked~label.sk-toggleable__label {background-color: #d4ebff;}input.sk-hidden--visually {border: 0;clip: rect(1px 1px 1px 1px);clip: rect(1px, 1px, 1px, 1px);height: 1px;margin: -1px;overflow: hidden;padding: 0;position: absolute;width: 1px;}div.sk-estimator {font-family: monospace;background-color: #f0f8ff;margin: 0.25em 0.25em;border: 1px dotted black;border-radius: 0.25em;box-sizing: border-box;}div.sk-estimator:hover {background-color: #d4ebff;}div.sk-parallel-item::after {content: \"\";width: 100%;border-bottom: 1px solid gray;flex-grow: 1;}div.sk-label:hover label.sk-toggleable__label {background-color: #d4ebff;}div.sk-serial::before {content: \"\";position: absolute;border-left: 1px solid gray;box-sizing: border-box;top: 2em;bottom: 0;left: 50%;}div.sk-serial {display: flex;flex-direction: column;align-items: center;background-color: white;}div.sk-item {z-index: 1;}div.sk-parallel {display: flex;align-items: stretch;justify-content: center;background-color: white;}div.sk-parallel-item {display: flex;flex-direction: column;position: relative;background-color: white;}div.sk-parallel-item:first-child::after {align-self: flex-end;width: 50%;}div.sk-parallel-item:last-child::after {align-self: flex-start;width: 50%;}div.sk-parallel-item:only-child::after {width: 0;}div.sk-dashed-wrapped {border: 1px dashed gray;margin: 0.2em;box-sizing: border-box;padding-bottom: 0.1em;background-color: white;position: relative;}div.sk-label label {font-family: monospace;font-weight: bold;background-color: white;display: inline-block;line-height: 1.2em;}div.sk-label-container {position: relative;z-index: 2;text-align: center;}div.sk-container {display: inline-block;position: relative;}</style><div class=\"sk-top-container\"><div class=\"sk-container\"><div class=\"sk-item sk-dashed-wrapped\"><div class=\"sk-label-container\"><div class=\"sk-label sk-toggleable\"><input class=\"sk-toggleable__control sk-hidden--visually\" id=\"3eab4af6-aaac-47d5-9839-c3bdc16c76a9\" type=\"checkbox\" ><label class=\"sk-toggleable__label\" for=\"3eab4af6-aaac-47d5-9839-c3bdc16c76a9\">Pipeline</label><div class=\"sk-toggleable__content\"><pre>Pipeline(steps=[('preprocessor',\n",
       "                 ColumnTransformer(n_jobs=-1,\n",
       "                                   transformers=[('comfeaturestransformer',\n",
       "                                                  ComFeaturesTransformer(community_name='Department',\n",
       "                                                                         func_names=['cn_sh',\n",
       "                                                                                     'ra_sh'],\n",
       "                                                                         graph=<networkx.classes.graph.Graph object at 0x7fcb78cc6128>),\n",
       "                                                  ['edge'])])),\n",
       "                ('rf_clf',\n",
       "                 RandomForestClassifier(random_state=3, warm_start=True))])</pre></div></div></div><div class=\"sk-serial\"><div class=\"sk-item sk-dashed-wrapped\"><div class=\"sk-label-container\"><div class=\"sk-label sk-toggleable\"><input class=\"sk-toggleable__control sk-hidden--visually\" id=\"b4c42f25-e973-48b7-b5f2-35aae18bd686\" type=\"checkbox\" ><label class=\"sk-toggleable__label\" for=\"b4c42f25-e973-48b7-b5f2-35aae18bd686\">preprocessor: ColumnTransformer</label><div class=\"sk-toggleable__content\"><pre>ColumnTransformer(n_jobs=-1,\n",
       "                  transformers=[('comfeaturestransformer',\n",
       "                                 ComFeaturesTransformer(community_name='Department',\n",
       "                                                        func_names=['cn_sh',\n",
       "                                                                    'ra_sh'],\n",
       "                                                        graph=<networkx.classes.graph.Graph object at 0x7fcb78cc6128>),\n",
       "                                 ['edge'])])</pre></div></div></div><div class=\"sk-parallel\"><div class=\"sk-parallel-item\"><div class=\"sk-item\"><div class=\"sk-label-container\"><div class=\"sk-label sk-toggleable\"><input class=\"sk-toggleable__control sk-hidden--visually\" id=\"09eaf9e9-29cb-4437-ad68-3a887d431e8b\" type=\"checkbox\" ><label class=\"sk-toggleable__label\" for=\"09eaf9e9-29cb-4437-ad68-3a887d431e8b\">comfeaturestransformer</label><div class=\"sk-toggleable__content\"><pre>['edge']</pre></div></div></div><div class=\"sk-serial\"><div class=\"sk-item\"><div class=\"sk-estimator sk-toggleable\"><input class=\"sk-toggleable__control sk-hidden--visually\" id=\"8b9c62ef-af79-48b8-9206-4b325374df3a\" type=\"checkbox\" ><label class=\"sk-toggleable__label\" for=\"8b9c62ef-af79-48b8-9206-4b325374df3a\">ComFeaturesTransformer</label><div class=\"sk-toggleable__content\"><pre>ComFeaturesTransformer(community_name='Department',\n",
       "                       func_names=['cn_sh', 'ra_sh'],\n",
       "                       graph=<networkx.classes.graph.Graph object at 0x7fcb78cc6128>)</pre></div></div></div></div></div></div></div></div><div class=\"sk-item\"><div class=\"sk-estimator sk-toggleable\"><input class=\"sk-toggleable__control sk-hidden--visually\" id=\"4eb2381e-fe91-4689-acb3-7e3aa75a5a0d\" type=\"checkbox\" ><label class=\"sk-toggleable__label\" for=\"4eb2381e-fe91-4689-acb3-7e3aa75a5a0d\">RandomForestClassifier</label><div class=\"sk-toggleable__content\"><pre>RandomForestClassifier(random_state=3, warm_start=True)</pre></div></div></div></div></div></div></div>"
      ],
      "text/plain": [
       "Pipeline(steps=[('preprocessor',\n",
       "                 ColumnTransformer(n_jobs=-1,\n",
       "                                   transformers=[('comfeaturestransformer',\n",
       "                                                  ComFeaturesTransformer(community_name='Department',\n",
       "                                                                         func_names=['cn_sh',\n",
       "                                                                                     'ra_sh'],\n",
       "                                                                         graph=<networkx.classes.graph.Graph object at 0x7fcb78cc6128>),\n",
       "                                                  ['edge'])])),\n",
       "                ('rf_clf',\n",
       "                 RandomForestClassifier(random_state=3, warm_start=True))])"
      ]
     },
     "execution_count": 26,
     "metadata": {},
     "output_type": "execute_result"
    }
   ],
   "source": [
    "pipeline_c"
   ]
  },
  {
   "cell_type": "code",
   "execution_count": 27,
   "metadata": {},
   "outputs": [
    {
     "data": {
      "text/html": [
       "<style>div.sk-top-container {color: black;background-color: white;}div.sk-toggleable {background-color: white;}label.sk-toggleable__label {cursor: pointer;display: block;width: 100%;margin-bottom: 0;padding: 0.2em 0.3em;box-sizing: border-box;text-align: center;}div.sk-toggleable__content {max-height: 0;max-width: 0;overflow: hidden;text-align: left;background-color: #f0f8ff;}div.sk-toggleable__content pre {margin: 0.2em;color: black;border-radius: 0.25em;background-color: #f0f8ff;}input.sk-toggleable__control:checked~div.sk-toggleable__content {max-height: 200px;max-width: 100%;overflow: auto;}div.sk-estimator input.sk-toggleable__control:checked~label.sk-toggleable__label {background-color: #d4ebff;}div.sk-label input.sk-toggleable__control:checked~label.sk-toggleable__label {background-color: #d4ebff;}input.sk-hidden--visually {border: 0;clip: rect(1px 1px 1px 1px);clip: rect(1px, 1px, 1px, 1px);height: 1px;margin: -1px;overflow: hidden;padding: 0;position: absolute;width: 1px;}div.sk-estimator {font-family: monospace;background-color: #f0f8ff;margin: 0.25em 0.25em;border: 1px dotted black;border-radius: 0.25em;box-sizing: border-box;}div.sk-estimator:hover {background-color: #d4ebff;}div.sk-parallel-item::after {content: \"\";width: 100%;border-bottom: 1px solid gray;flex-grow: 1;}div.sk-label:hover label.sk-toggleable__label {background-color: #d4ebff;}div.sk-serial::before {content: \"\";position: absolute;border-left: 1px solid gray;box-sizing: border-box;top: 2em;bottom: 0;left: 50%;}div.sk-serial {display: flex;flex-direction: column;align-items: center;background-color: white;}div.sk-item {z-index: 1;}div.sk-parallel {display: flex;align-items: stretch;justify-content: center;background-color: white;}div.sk-parallel-item {display: flex;flex-direction: column;position: relative;background-color: white;}div.sk-parallel-item:first-child::after {align-self: flex-end;width: 50%;}div.sk-parallel-item:last-child::after {align-self: flex-start;width: 50%;}div.sk-parallel-item:only-child::after {width: 0;}div.sk-dashed-wrapped {border: 1px dashed gray;margin: 0.2em;box-sizing: border-box;padding-bottom: 0.1em;background-color: white;position: relative;}div.sk-label label {font-family: monospace;font-weight: bold;background-color: white;display: inline-block;line-height: 1.2em;}div.sk-label-container {position: relative;z-index: 2;text-align: center;}div.sk-container {display: inline-block;position: relative;}</style><div class=\"sk-top-container\"><div class=\"sk-container\"><div class=\"sk-item sk-dashed-wrapped\"><div class=\"sk-label-container\"><div class=\"sk-label sk-toggleable\"><input class=\"sk-toggleable__control sk-hidden--visually\" id=\"962c95d9-3c94-4f7f-9c7f-b6cc9c231a9d\" type=\"checkbox\" ><label class=\"sk-toggleable__label\" for=\"962c95d9-3c94-4f7f-9c7f-b6cc9c231a9d\">Pipeline</label><div class=\"sk-toggleable__content\"><pre>Pipeline(steps=[('preprocessor',\n",
       "                 FeatureUnion(transformer_list=[('edge',\n",
       "                                                 ColumnTransformer(n_jobs=-1,\n",
       "                                                                   transformers=[('edgefeaturestransformer',\n",
       "                                                                                  EdgeFeaturesTransformer(func_names=['jaccard',\n",
       "                                                                                                                      'r_alloc',\n",
       "                                                                                                                      'p_attach'],\n",
       "                                                                                                          graph=<networkx.classes.graph.Graph object at 0x7fcb78cc6128>),\n",
       "                                                                                  ['edge'])])),\n",
       "                                                ('com',\n",
       "                                                 ColumnTransformer(n_jobs=-1,\n",
       "                                                                   transformers=[('comfeaturestransformer',\n",
       "                                                                                  ComFeaturesTransformer(community_name='Department',\n",
       "                                                                                                         func_names=['cn_sh',\n",
       "                                                                                                                     'ra_sh'],\n",
       "                                                                                                         graph=<networkx.classes.graph.Graph object at 0x7fcb78cc6128>),\n",
       "                                                                                  ['edge'])]))])),\n",
       "                ('rf_clf',\n",
       "                 RandomForestClassifier(random_state=3, warm_start=True))])</pre></div></div></div><div class=\"sk-serial\"><div class=\"sk-item sk-dashed-wrapped\"><div class=\"sk-label-container\"><div class=\"sk-label sk-toggleable\"><input class=\"sk-toggleable__control sk-hidden--visually\" id=\"bcac3a37-c21b-4abb-9f9e-286dac60fac6\" type=\"checkbox\" ><label class=\"sk-toggleable__label\" for=\"bcac3a37-c21b-4abb-9f9e-286dac60fac6\">preprocessor: FeatureUnion</label><div class=\"sk-toggleable__content\"><pre>FeatureUnion(transformer_list=[('edge',\n",
       "                                ColumnTransformer(n_jobs=-1,\n",
       "                                                  transformers=[('edgefeaturestransformer',\n",
       "                                                                 EdgeFeaturesTransformer(func_names=['jaccard',\n",
       "                                                                                                     'r_alloc',\n",
       "                                                                                                     'p_attach'],\n",
       "                                                                                         graph=<networkx.classes.graph.Graph object at 0x7fcb78cc6128>),\n",
       "                                                                 ['edge'])])),\n",
       "                               ('com',\n",
       "                                ColumnTransformer(n_jobs=-1,\n",
       "                                                  transformers=[('comfeaturestransformer',\n",
       "                                                                 ComFeaturesTransformer(community_name='Department',\n",
       "                                                                                        func_names=['cn_sh',\n",
       "                                                                                                    'ra_sh'],\n",
       "                                                                                        graph=<networkx.classes.graph.Graph object at 0x7fcb78cc6128>),\n",
       "                                                                 ['edge'])]))])</pre></div></div></div><div class=\"sk-parallel\"><div class=\"sk-parallel-item\"><div class=\"sk-item\"><div class=\"sk-label-container\"><div class=\"sk-label sk-toggleable\"><label>edge</label></div></div><div class=\"sk-serial\"><div class=\"sk-item sk-dashed-wrapped\"><div class=\"sk-parallel\"><div class=\"sk-parallel-item\"><div class=\"sk-item\"><div class=\"sk-label-container\"><div class=\"sk-label sk-toggleable\"><input class=\"sk-toggleable__control sk-hidden--visually\" id=\"3c261f5d-5271-4912-9fd5-127b5ca16a59\" type=\"checkbox\" ><label class=\"sk-toggleable__label\" for=\"3c261f5d-5271-4912-9fd5-127b5ca16a59\">edgefeaturestransformer</label><div class=\"sk-toggleable__content\"><pre>['edge']</pre></div></div></div><div class=\"sk-serial\"><div class=\"sk-item\"><div class=\"sk-estimator sk-toggleable\"><input class=\"sk-toggleable__control sk-hidden--visually\" id=\"2d1b6ef6-49f8-48b4-8935-fbb9a6e9d045\" type=\"checkbox\" ><label class=\"sk-toggleable__label\" for=\"2d1b6ef6-49f8-48b4-8935-fbb9a6e9d045\">EdgeFeaturesTransformer</label><div class=\"sk-toggleable__content\"><pre>EdgeFeaturesTransformer(func_names=['jaccard', 'r_alloc', 'p_attach'],\n",
       "                        graph=<networkx.classes.graph.Graph object at 0x7fcb78cc6128>)</pre></div></div></div></div></div></div></div></div></div></div></div><div class=\"sk-parallel-item\"><div class=\"sk-item\"><div class=\"sk-label-container\"><div class=\"sk-label sk-toggleable\"><label>com</label></div></div><div class=\"sk-serial\"><div class=\"sk-item sk-dashed-wrapped\"><div class=\"sk-parallel\"><div class=\"sk-parallel-item\"><div class=\"sk-item\"><div class=\"sk-label-container\"><div class=\"sk-label sk-toggleable\"><input class=\"sk-toggleable__control sk-hidden--visually\" id=\"2f18d1c0-8f63-41bc-bc66-9e5dfb4c1447\" type=\"checkbox\" ><label class=\"sk-toggleable__label\" for=\"2f18d1c0-8f63-41bc-bc66-9e5dfb4c1447\">comfeaturestransformer</label><div class=\"sk-toggleable__content\"><pre>['edge']</pre></div></div></div><div class=\"sk-serial\"><div class=\"sk-item\"><div class=\"sk-estimator sk-toggleable\"><input class=\"sk-toggleable__control sk-hidden--visually\" id=\"12ab5e55-536c-4201-a403-160810106a94\" type=\"checkbox\" ><label class=\"sk-toggleable__label\" for=\"12ab5e55-536c-4201-a403-160810106a94\">ComFeaturesTransformer</label><div class=\"sk-toggleable__content\"><pre>ComFeaturesTransformer(community_name='Department',\n",
       "                       func_names=['cn_sh', 'ra_sh'],\n",
       "                       graph=<networkx.classes.graph.Graph object at 0x7fcb78cc6128>)</pre></div></div></div></div></div></div></div></div></div></div></div></div></div><div class=\"sk-item\"><div class=\"sk-estimator sk-toggleable\"><input class=\"sk-toggleable__control sk-hidden--visually\" id=\"44d8b7d8-0c50-49da-9792-63fcdf86f670\" type=\"checkbox\" ><label class=\"sk-toggleable__label\" for=\"44d8b7d8-0c50-49da-9792-63fcdf86f670\">RandomForestClassifier</label><div class=\"sk-toggleable__content\"><pre>RandomForestClassifier(random_state=3, warm_start=True)</pre></div></div></div></div></div></div></div>"
      ],
      "text/plain": [
       "Pipeline(steps=[('preprocessor',\n",
       "                 FeatureUnion(transformer_list=[('edge',\n",
       "                                                 ColumnTransformer(n_jobs=-1,\n",
       "                                                                   transformers=[('edgefeaturestransformer',\n",
       "                                                                                  EdgeFeaturesTransformer(func_names=['jaccard',\n",
       "                                                                                                                      'r_alloc',\n",
       "                                                                                                                      'p_attach'],\n",
       "                                                                                                          graph=<networkx.classes.graph.Graph object at 0x7fcb78cc6128>),\n",
       "                                                                                  ['edge'])])),\n",
       "                                                ('com',\n",
       "                                                 ColumnTransformer(n_jobs=-1,\n",
       "                                                                   transformers=[('comfeaturestransformer',\n",
       "                                                                                  ComFeaturesTransformer(community_name='Department',\n",
       "                                                                                                         func_names=['cn_sh',\n",
       "                                                                                                                     'ra_sh'],\n",
       "                                                                                                         graph=<networkx.classes.graph.Graph object at 0x7fcb78cc6128>),\n",
       "                                                                                  ['edge'])]))])),\n",
       "                ('rf_clf',\n",
       "                 RandomForestClassifier(random_state=3, warm_start=True))])"
      ]
     },
     "execution_count": 27,
     "metadata": {},
     "output_type": "execute_result"
    }
   ],
   "source": [
    "pipeline_ec"
   ]
  },
  {
   "cell_type": "markdown",
   "metadata": {},
   "source": [
    "### Selecting model and model hyper-parameters"
   ]
  },
  {
   "cell_type": "markdown",
   "metadata": {},
   "source": [
    "<a id='subsec_grid_param'></a>\n",
    "#### Defining hyper-parameter candidates"
   ]
  },
  {
   "cell_type": "code",
   "execution_count": 28,
   "metadata": {},
   "outputs": [],
   "source": [
    "# define the hyper-parameters\n",
    "param_grid = dict(\n",
    "    rf_clf__n_estimators=[10, 100],\n",
    "    rf_clf__max_depth=[2, 10]\n",
    "    # rf_clf__max_features = [] - this should be explored when we have high-dimensional data\n",
    ")"
   ]
  },
  {
   "cell_type": "markdown",
   "metadata": {},
   "source": [
    "#### Modeling and selecting model based on defined score"
   ]
  },
  {
   "cell_type": "code",
   "execution_count": 29,
   "metadata": {},
   "outputs": [],
   "source": [
    "grid_e = GridSearchCV(\n",
    "    estimator=pipeline_e,\n",
    "    param_grid=param_grid,\n",
    "    scoring=scoring,\n",
    "    n_jobs=n_jobs,\n",
    "    verbose=8,\n",
    "    cv=cv\n",
    ")\n",
    "\n",
    "grid_c = GridSearchCV(\n",
    "    estimator=pipeline_c,\n",
    "    param_grid=param_grid,\n",
    "    scoring=scoring,\n",
    "    n_jobs=n_jobs,\n",
    "    verbose=8,\n",
    "    cv=cv\n",
    ")\n",
    "\n",
    "grid_ec = GridSearchCV(\n",
    "    estimator=pipeline_ec,\n",
    "    param_grid=param_grid,\n",
    "    scoring=scoring,\n",
    "    n_jobs=n_jobs,\n",
    "    verbose=8,\n",
    "    cv=cv\n",
    ")"
   ]
  },
  {
   "cell_type": "markdown",
   "metadata": {},
   "source": [
    "Defining `grids` dictionary to be more organized"
   ]
  },
  {
   "cell_type": "code",
   "execution_count": 30,
   "metadata": {},
   "outputs": [],
   "source": [
    "grids = {\n",
    "    'edge':  grid_e,\n",
    "    'com':   grid_c,\n",
    "    'union': grid_ec\n",
    "}"
   ]
  },
  {
   "cell_type": "markdown",
   "metadata": {},
   "source": [
    "Sanity check of the whole pipeline (union pipeline)"
   ]
  },
  {
   "cell_type": "code",
   "execution_count": 31,
   "metadata": {},
   "outputs": [
    {
     "data": {
      "text/html": [
       "<style>div.sk-top-container {color: black;background-color: white;}div.sk-toggleable {background-color: white;}label.sk-toggleable__label {cursor: pointer;display: block;width: 100%;margin-bottom: 0;padding: 0.2em 0.3em;box-sizing: border-box;text-align: center;}div.sk-toggleable__content {max-height: 0;max-width: 0;overflow: hidden;text-align: left;background-color: #f0f8ff;}div.sk-toggleable__content pre {margin: 0.2em;color: black;border-radius: 0.25em;background-color: #f0f8ff;}input.sk-toggleable__control:checked~div.sk-toggleable__content {max-height: 200px;max-width: 100%;overflow: auto;}div.sk-estimator input.sk-toggleable__control:checked~label.sk-toggleable__label {background-color: #d4ebff;}div.sk-label input.sk-toggleable__control:checked~label.sk-toggleable__label {background-color: #d4ebff;}input.sk-hidden--visually {border: 0;clip: rect(1px 1px 1px 1px);clip: rect(1px, 1px, 1px, 1px);height: 1px;margin: -1px;overflow: hidden;padding: 0;position: absolute;width: 1px;}div.sk-estimator {font-family: monospace;background-color: #f0f8ff;margin: 0.25em 0.25em;border: 1px dotted black;border-radius: 0.25em;box-sizing: border-box;}div.sk-estimator:hover {background-color: #d4ebff;}div.sk-parallel-item::after {content: \"\";width: 100%;border-bottom: 1px solid gray;flex-grow: 1;}div.sk-label:hover label.sk-toggleable__label {background-color: #d4ebff;}div.sk-serial::before {content: \"\";position: absolute;border-left: 1px solid gray;box-sizing: border-box;top: 2em;bottom: 0;left: 50%;}div.sk-serial {display: flex;flex-direction: column;align-items: center;background-color: white;}div.sk-item {z-index: 1;}div.sk-parallel {display: flex;align-items: stretch;justify-content: center;background-color: white;}div.sk-parallel-item {display: flex;flex-direction: column;position: relative;background-color: white;}div.sk-parallel-item:first-child::after {align-self: flex-end;width: 50%;}div.sk-parallel-item:last-child::after {align-self: flex-start;width: 50%;}div.sk-parallel-item:only-child::after {width: 0;}div.sk-dashed-wrapped {border: 1px dashed gray;margin: 0.2em;box-sizing: border-box;padding-bottom: 0.1em;background-color: white;position: relative;}div.sk-label label {font-family: monospace;font-weight: bold;background-color: white;display: inline-block;line-height: 1.2em;}div.sk-label-container {position: relative;z-index: 2;text-align: center;}div.sk-container {display: inline-block;position: relative;}</style><div class=\"sk-top-container\"><div class=\"sk-container\"><div class=\"sk-item sk-dashed-wrapped\"><div class=\"sk-label-container\"><div class=\"sk-label sk-toggleable\"><input class=\"sk-toggleable__control sk-hidden--visually\" id=\"d74919d0-3471-426d-bebd-16d24815dbb9\" type=\"checkbox\" ><label class=\"sk-toggleable__label\" for=\"d74919d0-3471-426d-bebd-16d24815dbb9\">GridSearchCV</label><div class=\"sk-toggleable__content\"><pre>GridSearchCV(cv=5,\n",
       "             estimator=Pipeline(steps=[('preprocessor',\n",
       "                                        FeatureUnion(transformer_list=[('edge',\n",
       "                                                                        ColumnTransformer(n_jobs=-1,\n",
       "                                                                                          transformers=[('edgefeaturestransformer',\n",
       "                                                                                                         EdgeFeaturesTransformer(func_names=['jaccard',\n",
       "                                                                                                                                             'r_alloc',\n",
       "                                                                                                                                             'p_attach'],\n",
       "                                                                                                                                 graph=<networkx.classes.graph.Graph object at 0x7fcb78cc6128>),\n",
       "                                                                                                         ['edge'])])),\n",
       "                                                                       ('com',\n",
       "                                                                        ColumnTransformer(n_jobs=-1,\n",
       "                                                                                          transf...restransformer',\n",
       "                                                                                                         ComFeaturesTransformer(community_name='Department',\n",
       "                                                                                                                                func_names=['cn_sh',\n",
       "                                                                                                                                            'ra_sh'],\n",
       "                                                                                                                                graph=<networkx.classes.graph.Graph object at 0x7fcb78cc6128>),\n",
       "                                                                                                         ['edge'])]))])),\n",
       "                                       ('rf_clf',\n",
       "                                        RandomForestClassifier(random_state=3,\n",
       "                                                               warm_start=True))]),\n",
       "             n_jobs=-1,\n",
       "             param_grid={'rf_clf__max_depth': [2, 10],\n",
       "                         'rf_clf__n_estimators': [10, 100]},\n",
       "             scoring='roc_auc', verbose=8)</pre></div></div></div><div class=\"sk-parallel\"><div class=\"sk-parallel-item\"><div class=\"sk-item\"><div class=\"sk-serial\"><div class=\"sk-item\"><div class=\"sk-serial\"><div class=\"sk-item sk-dashed-wrapped\"><div class=\"sk-label-container\"><div class=\"sk-label sk-toggleable\"><input class=\"sk-toggleable__control sk-hidden--visually\" id=\"025dd7e6-b7c3-45b5-81b8-68602125ba66\" type=\"checkbox\" ><label class=\"sk-toggleable__label\" for=\"025dd7e6-b7c3-45b5-81b8-68602125ba66\">preprocessor: FeatureUnion</label><div class=\"sk-toggleable__content\"><pre>FeatureUnion(transformer_list=[('edge',\n",
       "                                ColumnTransformer(n_jobs=-1,\n",
       "                                                  transformers=[('edgefeaturestransformer',\n",
       "                                                                 EdgeFeaturesTransformer(func_names=['jaccard',\n",
       "                                                                                                     'r_alloc',\n",
       "                                                                                                     'p_attach'],\n",
       "                                                                                         graph=<networkx.classes.graph.Graph object at 0x7fcb78cc6128>),\n",
       "                                                                 ['edge'])])),\n",
       "                               ('com',\n",
       "                                ColumnTransformer(n_jobs=-1,\n",
       "                                                  transformers=[('comfeaturestransformer',\n",
       "                                                                 ComFeaturesTransformer(community_name='Department',\n",
       "                                                                                        func_names=['cn_sh',\n",
       "                                                                                                    'ra_sh'],\n",
       "                                                                                        graph=<networkx.classes.graph.Graph object at 0x7fcb78cc6128>),\n",
       "                                                                 ['edge'])]))])</pre></div></div></div><div class=\"sk-parallel\"><div class=\"sk-parallel-item\"><div class=\"sk-item\"><div class=\"sk-label-container\"><div class=\"sk-label sk-toggleable\"><label>edge</label></div></div><div class=\"sk-serial\"><div class=\"sk-item sk-dashed-wrapped\"><div class=\"sk-parallel\"><div class=\"sk-parallel-item\"><div class=\"sk-item\"><div class=\"sk-label-container\"><div class=\"sk-label sk-toggleable\"><input class=\"sk-toggleable__control sk-hidden--visually\" id=\"cece55a1-7a0a-4eb3-a705-e71248c14cde\" type=\"checkbox\" ><label class=\"sk-toggleable__label\" for=\"cece55a1-7a0a-4eb3-a705-e71248c14cde\">edgefeaturestransformer</label><div class=\"sk-toggleable__content\"><pre>['edge']</pre></div></div></div><div class=\"sk-serial\"><div class=\"sk-item\"><div class=\"sk-estimator sk-toggleable\"><input class=\"sk-toggleable__control sk-hidden--visually\" id=\"e596b6c6-fd16-4018-815c-4dcca1763b6d\" type=\"checkbox\" ><label class=\"sk-toggleable__label\" for=\"e596b6c6-fd16-4018-815c-4dcca1763b6d\">EdgeFeaturesTransformer</label><div class=\"sk-toggleable__content\"><pre>EdgeFeaturesTransformer(func_names=['jaccard', 'r_alloc', 'p_attach'],\n",
       "                        graph=<networkx.classes.graph.Graph object at 0x7fcb78cc6128>)</pre></div></div></div></div></div></div></div></div></div></div></div><div class=\"sk-parallel-item\"><div class=\"sk-item\"><div class=\"sk-label-container\"><div class=\"sk-label sk-toggleable\"><label>com</label></div></div><div class=\"sk-serial\"><div class=\"sk-item sk-dashed-wrapped\"><div class=\"sk-parallel\"><div class=\"sk-parallel-item\"><div class=\"sk-item\"><div class=\"sk-label-container\"><div class=\"sk-label sk-toggleable\"><input class=\"sk-toggleable__control sk-hidden--visually\" id=\"26b53ae1-b9cd-4479-b19a-c543e21ab48c\" type=\"checkbox\" ><label class=\"sk-toggleable__label\" for=\"26b53ae1-b9cd-4479-b19a-c543e21ab48c\">comfeaturestransformer</label><div class=\"sk-toggleable__content\"><pre>['edge']</pre></div></div></div><div class=\"sk-serial\"><div class=\"sk-item\"><div class=\"sk-estimator sk-toggleable\"><input class=\"sk-toggleable__control sk-hidden--visually\" id=\"ca1bce5d-e3dd-41fc-9779-0a2f7d9e90e4\" type=\"checkbox\" ><label class=\"sk-toggleable__label\" for=\"ca1bce5d-e3dd-41fc-9779-0a2f7d9e90e4\">ComFeaturesTransformer</label><div class=\"sk-toggleable__content\"><pre>ComFeaturesTransformer(community_name='Department',\n",
       "                       func_names=['cn_sh', 'ra_sh'],\n",
       "                       graph=<networkx.classes.graph.Graph object at 0x7fcb78cc6128>)</pre></div></div></div></div></div></div></div></div></div></div></div></div></div><div class=\"sk-item\"><div class=\"sk-estimator sk-toggleable\"><input class=\"sk-toggleable__control sk-hidden--visually\" id=\"2b891932-08b4-46bf-8d80-5632231426c1\" type=\"checkbox\" ><label class=\"sk-toggleable__label\" for=\"2b891932-08b4-46bf-8d80-5632231426c1\">RandomForestClassifier</label><div class=\"sk-toggleable__content\"><pre>RandomForestClassifier(random_state=3, warm_start=True)</pre></div></div></div></div></div></div></div></div></div></div></div></div>"
      ],
      "text/plain": [
       "GridSearchCV(cv=5,\n",
       "             estimator=Pipeline(steps=[('preprocessor',\n",
       "                                        FeatureUnion(transformer_list=[('edge',\n",
       "                                                                        ColumnTransformer(n_jobs=-1,\n",
       "                                                                                          transformers=[('edgefeaturestransformer',\n",
       "                                                                                                         EdgeFeaturesTransformer(func_names=['jaccard',\n",
       "                                                                                                                                             'r_alloc',\n",
       "                                                                                                                                             'p_attach'],\n",
       "                                                                                                                                 graph=<networkx.classes.graph.Graph object at 0x7fcb78cc6128>),\n",
       "                                                                                                         ['edge'])])),\n",
       "                                                                       ('com',\n",
       "                                                                        ColumnTransformer(n_jobs=-1,\n",
       "                                                                                          transf...restransformer',\n",
       "                                                                                                         ComFeaturesTransformer(community_name='Department',\n",
       "                                                                                                                                func_names=['cn_sh',\n",
       "                                                                                                                                            'ra_sh'],\n",
       "                                                                                                                                graph=<networkx.classes.graph.Graph object at 0x7fcb78cc6128>),\n",
       "                                                                                                         ['edge'])]))])),\n",
       "                                       ('rf_clf',\n",
       "                                        RandomForestClassifier(random_state=3,\n",
       "                                                               warm_start=True))]),\n",
       "             n_jobs=-1,\n",
       "             param_grid={'rf_clf__max_depth': [2, 10],\n",
       "                         'rf_clf__n_estimators': [10, 100]},\n",
       "             scoring='roc_auc', verbose=8)"
      ]
     },
     "execution_count": 31,
     "metadata": {},
     "output_type": "execute_result"
    }
   ],
   "source": [
    "grids['union']"
   ]
  },
  {
   "cell_type": "markdown",
   "metadata": {},
   "source": [
    "Fitting the data"
   ]
  },
  {
   "cell_type": "code",
   "execution_count": 32,
   "metadata": {},
   "outputs": [
    {
     "name": "stdout",
     "output_type": "stream",
     "text": [
      "Performing gridsearchCV: edge\n",
      "Fitting 5 folds for each of 4 candidates, totalling 20 fits\n",
      "Performing gridsearchCV: com\n",
      "Fitting 5 folds for each of 4 candidates, totalling 20 fits\n",
      "Performing gridsearchCV: union\n",
      "Fitting 5 folds for each of 4 candidates, totalling 20 fits\n"
     ]
    }
   ],
   "source": [
    "for grid_name, grid in grids.items():\n",
    "    print(f'Performing gridsearchCV: {grid_name}')\n",
    "    grid.fit(X_train, y_train)"
   ]
  },
  {
   "cell_type": "markdown",
   "metadata": {},
   "source": [
    "<a id='sec_am'></a>\n",
    "# Assessing the models \n"
   ]
  },
  {
   "cell_type": "markdown",
   "metadata": {},
   "source": [
    "#### model parameters and scores"
   ]
  },
  {
   "cell_type": "code",
   "execution_count": 33,
   "metadata": {},
   "outputs": [
    {
     "name": "stdout",
     "output_type": "stream",
     "text": [
      "\n",
      "    pipeline:          edge\n",
      "    best params:       {'rf_clf__max_depth': 10, 'rf_clf__n_estimators': 100}\n",
      "    mean test score:   [0.89599048 0.90057569 0.90898618 0.91013192]\n",
      "    std test score:    [0.00382839 0.00392864 0.0038263  0.00382244]\n",
      "    \n",
      "\n",
      "    pipeline:          com\n",
      "    best params:       {'rf_clf__max_depth': 10, 'rf_clf__n_estimators': 100}\n",
      "    mean test score:   [0.88760489 0.89057226 0.91321218 0.91335714]\n",
      "    std test score:    [0.00235675 0.00252909 0.00344154 0.0033958 ]\n",
      "    \n",
      "\n",
      "    pipeline:          union\n",
      "    best params:       {'rf_clf__max_depth': 10, 'rf_clf__n_estimators': 100}\n",
      "    mean test score:   [0.89576545 0.90206909 0.91328739 0.91399391]\n",
      "    std test score:    [0.00324586 0.00341265 0.00353051 0.00365843]\n",
      "    \n"
     ]
    }
   ],
   "source": [
    "for grid_name, grid in grids.items():\n",
    "    # TODO: add storage of results for further hyper-parameter tuning\n",
    "    \n",
    "    grid.predict(X_test)\n",
    "    print(f\"\"\"\n",
    "    pipeline:          {grid_name}\n",
    "    best params:       {grid.best_params_}\n",
    "    mean test score:   {grid.cv_results_['mean_test_score']}\n",
    "    std test score:    {grid.cv_results_['std_test_score']}\n",
    "    \"\"\")"
   ]
  },
  {
   "cell_type": "markdown",
   "metadata": {},
   "source": [
    "Analyze the results. Perform the necessary changes/additions to [feature engineering](#sec_fe) tasks or [hyper-parameters](#subsec_grid_pram) improve the model. Or expore other [models](#sec_mod). \n",
    "\n",
    "TODO:\n",
    "- add test results\n",
    "- store results data\n",
    "- store models"
   ]
  },
  {
   "cell_type": "markdown",
   "metadata": {},
   "source": [
    "<a id='sec_fa'></a>\n",
    "# Feature importance and instance analysis\n",
    "\n",
    "TODO: \n",
    "- Implement shap sampling\n",
    "- Make this Google Colab compatible\n",
    "- Instance analysis"
   ]
  },
  {
   "cell_type": "code",
   "execution_count": null,
   "metadata": {},
   "outputs": [],
   "source": [
    "# assign the model to analyze \n",
    "model = grids['union']"
   ]
  },
  {
   "cell_type": "code",
   "execution_count": null,
   "metadata": {},
   "outputs": [],
   "source": [
    "X = model.best_estimator_.named_steps['preprocessor'].fit_transform(X_train)\n",
    "explainer = shap.KernelExplainer(model.best_estimator_.named_steps['rf_clf'].predict_proba, X)"
   ]
  },
  {
   "cell_type": "code",
   "execution_count": null,
   "metadata": {},
   "outputs": [],
   "source": [
    "shap_values = explainer.shap_values(X)"
   ]
  }
 ],
 "metadata": {
  "kernelspec": {
   "display_name": "net_analytics_p36",
   "language": "python",
   "name": "net_analytics_p36"
  },
  "language_info": {
   "codemirror_mode": {
    "name": "ipython",
    "version": 3
   },
   "file_extension": ".py",
   "mimetype": "text/x-python",
   "name": "python",
   "nbconvert_exporter": "python",
   "pygments_lexer": "ipython3",
   "version": "3.6.5"
  }
 },
 "nbformat": 4,
 "nbformat_minor": 4
}
