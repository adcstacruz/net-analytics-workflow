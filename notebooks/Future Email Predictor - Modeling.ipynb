{
 "cells": [
  {
   "cell_type": "markdown",
   "metadata": {},
   "source": [
    "# Future Email Connections\n",
    "\n",
    "**Note**: This problem is one of the assignments in [`Applied Social Network Analysis in Python`](https://www.coursera.org/learn/python-social-network-analysis).\n",
    "\n",
    "**Goal**: Predict the employees who will more likely have an email exchange in the future. \n",
    "\n",
    "**Problem statement**: It's not indicated in the problem. This specific use case can be used for organizational analysis. \n",
    "\n",
    "**What we have**: \n",
    "\n",
    "- company's email network\n",
    "    - nodes: employees\n",
    "    - edges: having at least one email exchange between employees\n",
    "- \"future\" connections data:\n",
    "    - connections that were established after the creation of the graph\n",
    "    - values: 1-connected, 0-not connected\n",
    "\n",
    "**Personal Goal**: \n",
    "- create an initial network analysis/modeling pipeline which is streamlined for feature engineering \n",
    "\n",
    "**Scope**:\n",
    "- asdasd\n",
    "- did not perform much EDA on the data in alignment to the personal goal\n",
    "\n",
    "\n",
    "Why I am doing this? \n",
    "* Just wanted to share how to extract relevant features from \n",
    "* Exercise \n",
    "\n",
    "Notes: \n",
    "* The number of k-folds during cross validation was set low for now, but this can be changed in the user settings section\n",
    "* This is the same to the RF model parameters\n",
    "* test scores were not computed since the test data response values are not available\n",
    "* extraction methods\n",
    "\n",
    "Moving forward:\n",
    "* \n",
    "\n",
    "Try to modify only a specific part of the code\n",
    "\n",
    "\n",
    "## Problem:\n",
    "* Adding different transformers to different columns,\n",
    "    - difficult\n",
    "    \n",
    "    \n",
    "* Using sklearn's piplines to handle this. \n",
    "- typical transformer\n",
    "- function transformer \n",
    "\n",
    "\n",
    "### Terminologies:\n",
    "- evaluation metrics\n",
    "- multiple transformations"
   ]
  },
  {
   "cell_type": "markdown",
   "metadata": {},
   "source": [
    "## Import packages"
   ]
  },
  {
   "cell_type": "code",
   "execution_count": 39,
   "metadata": {},
   "outputs": [],
   "source": [
    "import os\n",
    "\n",
    "import pandas as pd\n",
    "import networkx as nx\n",
    "\n",
    "import shap\n",
    "\n",
    "from sklearn.base import BaseEstimator, TransformerMixin\n",
    "from sklearn.compose import make_column_transformer\n",
    "from sklearn.pipeline import FeatureUnion, Pipeline\n",
    "\n",
    "from sklearn.model_selection import GridSearchCV, train_test_split\n",
    "from sklearn.ensemble import RandomForestClassifier"
   ]
  },
  {
   "cell_type": "markdown",
   "metadata": {},
   "source": [
    "## User-defined parameters"
   ]
  },
  {
   "cell_type": "code",
   "execution_count": 40,
   "metadata": {},
   "outputs": [],
   "source": [
    "# data path params\n",
    "DATA_DIR = os.path.join(os.pardir, 'data')\n",
    "\n",
    "GRAPH_FILE_NAME = 'email_prediction.txt' # company email network\n",
    "CON_FILE_NAME = 'Future_Connections.csv' # future connections data\n",
    "\n",
    "graph_file_path = os.path.join(DATA_DIR, GRAPH_FILE_NAME)\n",
    "con_file_path = os.path.join(DATA_DIR, CON_FILE_NAME)\n",
    "\n",
    "\n",
    "# graph params\n",
    "community_name = 'Department'\n",
    "response = 'connected'\n",
    "\n",
    "\n",
    "# model params\n",
    "random_state = 3\n",
    "n_jobs = -1 # used generally throughout the code\n",
    "cv = 5\n",
    "scoring='roc_auc' # grid search metric"
   ]
  },
  {
   "cell_type": "markdown",
   "metadata": {},
   "source": [
    "## Loading the Data"
   ]
  },
  {
   "cell_type": "code",
   "execution_count": 41,
   "metadata": {},
   "outputs": [],
   "source": [
    "# company email network\n",
    "graph = nx.read_gpickle(graph_file_path)\n",
    "\n",
    "# future connections data\n",
    "con_df = pd.read_csv(con_file_path, index_col=0, converters={0: eval})"
   ]
  },
  {
   "cell_type": "markdown",
   "metadata": {},
   "source": [
    "#### Let's check the connections dataframe"
   ]
  },
  {
   "cell_type": "code",
   "execution_count": 42,
   "metadata": {},
   "outputs": [
    {
     "data": {
      "text/html": [
       "<div>\n",
       "<style scoped>\n",
       "    .dataframe tbody tr th:only-of-type {\n",
       "        vertical-align: middle;\n",
       "    }\n",
       "\n",
       "    .dataframe tbody tr th {\n",
       "        vertical-align: top;\n",
       "    }\n",
       "\n",
       "    .dataframe thead th {\n",
       "        text-align: right;\n",
       "    }\n",
       "</style>\n",
       "<table border=\"1\" class=\"dataframe\">\n",
       "  <thead>\n",
       "    <tr style=\"text-align: right;\">\n",
       "      <th></th>\n",
       "      <th>Future Connection</th>\n",
       "    </tr>\n",
       "  </thead>\n",
       "  <tbody>\n",
       "    <tr>\n",
       "      <th>(6, 840)</th>\n",
       "      <td>0.0</td>\n",
       "    </tr>\n",
       "    <tr>\n",
       "      <th>(4, 197)</th>\n",
       "      <td>0.0</td>\n",
       "    </tr>\n",
       "    <tr>\n",
       "      <th>(620, 979)</th>\n",
       "      <td>0.0</td>\n",
       "    </tr>\n",
       "  </tbody>\n",
       "</table>\n",
       "</div>"
      ],
      "text/plain": [
       "            Future Connection\n",
       "(6, 840)                  0.0\n",
       "(4, 197)                  0.0\n",
       "(620, 979)                0.0"
      ]
     },
     "execution_count": 42,
     "metadata": {},
     "output_type": "execute_result"
    }
   ],
   "source": [
    "con_df.head(3)"
   ]
  },
  {
   "cell_type": "markdown",
   "metadata": {},
   "source": [
    "Fixing the indices and column names"
   ]
  },
  {
   "cell_type": "code",
   "execution_count": 43,
   "metadata": {},
   "outputs": [],
   "source": [
    "con_df.reset_index(inplace=True)\n",
    "con_df.rename(columns={'index': 'edge', 'Future Connection': response}, inplace=True)"
   ]
  },
  {
   "cell_type": "code",
   "execution_count": 44,
   "metadata": {},
   "outputs": [
    {
     "data": {
      "text/html": [
       "<div>\n",
       "<style scoped>\n",
       "    .dataframe tbody tr th:only-of-type {\n",
       "        vertical-align: middle;\n",
       "    }\n",
       "\n",
       "    .dataframe tbody tr th {\n",
       "        vertical-align: top;\n",
       "    }\n",
       "\n",
       "    .dataframe thead th {\n",
       "        text-align: right;\n",
       "    }\n",
       "</style>\n",
       "<table border=\"1\" class=\"dataframe\">\n",
       "  <thead>\n",
       "    <tr style=\"text-align: right;\">\n",
       "      <th></th>\n",
       "      <th>edge</th>\n",
       "      <th>connected</th>\n",
       "    </tr>\n",
       "  </thead>\n",
       "  <tbody>\n",
       "    <tr>\n",
       "      <th>0</th>\n",
       "      <td>(6, 840)</td>\n",
       "      <td>0.0</td>\n",
       "    </tr>\n",
       "    <tr>\n",
       "      <th>1</th>\n",
       "      <td>(4, 197)</td>\n",
       "      <td>0.0</td>\n",
       "    </tr>\n",
       "    <tr>\n",
       "      <th>2</th>\n",
       "      <td>(620, 979)</td>\n",
       "      <td>0.0</td>\n",
       "    </tr>\n",
       "  </tbody>\n",
       "</table>\n",
       "</div>"
      ],
      "text/plain": [
       "         edge  connected\n",
       "0    (6, 840)        0.0\n",
       "1    (4, 197)        0.0\n",
       "2  (620, 979)        0.0"
      ]
     },
     "execution_count": 44,
     "metadata": {},
     "output_type": "execute_result"
    }
   ],
   "source": [
    "con_df.head(3)"
   ]
  },
  {
   "cell_type": "markdown",
   "metadata": {},
   "source": [
    "Sample intances"
   ]
  },
  {
   "cell_type": "code",
   "execution_count": 45,
   "metadata": {},
   "outputs": [
    {
     "data": {
      "text/html": [
       "<div>\n",
       "<style scoped>\n",
       "    .dataframe tbody tr th:only-of-type {\n",
       "        vertical-align: middle;\n",
       "    }\n",
       "\n",
       "    .dataframe tbody tr th {\n",
       "        vertical-align: top;\n",
       "    }\n",
       "\n",
       "    .dataframe thead th {\n",
       "        text-align: right;\n",
       "    }\n",
       "</style>\n",
       "<table border=\"1\" class=\"dataframe\">\n",
       "  <thead>\n",
       "    <tr style=\"text-align: right;\">\n",
       "      <th></th>\n",
       "      <th>edge</th>\n",
       "      <th>connected</th>\n",
       "    </tr>\n",
       "  </thead>\n",
       "  <tbody>\n",
       "    <tr>\n",
       "      <th>5</th>\n",
       "      <td>(97, 226)</td>\n",
       "      <td>1.0</td>\n",
       "    </tr>\n",
       "    <tr>\n",
       "      <th>16</th>\n",
       "      <td>(342, 473)</td>\n",
       "      <td>1.0</td>\n",
       "    </tr>\n",
       "    <tr>\n",
       "      <th>0</th>\n",
       "      <td>(6, 840)</td>\n",
       "      <td>0.0</td>\n",
       "    </tr>\n",
       "    <tr>\n",
       "      <th>1</th>\n",
       "      <td>(4, 197)</td>\n",
       "      <td>0.0</td>\n",
       "    </tr>\n",
       "  </tbody>\n",
       "</table>\n",
       "</div>"
      ],
      "text/plain": [
       "          edge  connected\n",
       "5    (97, 226)        1.0\n",
       "16  (342, 473)        1.0\n",
       "0     (6, 840)        0.0\n",
       "1     (4, 197)        0.0"
      ]
     },
     "execution_count": 45,
     "metadata": {},
     "output_type": "execute_result"
    }
   ],
   "source": [
    "pd.concat([\n",
    "    con_df[con_df[response] == 1].head(2),\n",
    "    con_df[con_df[response] == 0].head(2)\n",
    "])"
   ]
  },
  {
   "cell_type": "markdown",
   "metadata": {},
   "source": [
    "Distribution of connections that were established"
   ]
  },
  {
   "cell_type": "code",
   "execution_count": 46,
   "metadata": {},
   "outputs": [
    {
     "data": {
      "text/plain": [
       "0.0    337002\n",
       "1.0     29332\n",
       "Name: connected, dtype: int64"
      ]
     },
     "execution_count": 46,
     "metadata": {},
     "output_type": "execute_result"
    }
   ],
   "source": [
    "con_df[response].value_counts()"
   ]
  },
  {
   "cell_type": "markdown",
   "metadata": {},
   "source": [
    "Dropping instances with null `connected` values"
   ]
  },
  {
   "cell_type": "code",
   "execution_count": 47,
   "metadata": {},
   "outputs": [
    {
     "data": {
      "text/plain": [
       "edge              0\n",
       "connected    122112\n",
       "dtype: int64"
      ]
     },
     "execution_count": 47,
     "metadata": {},
     "output_type": "execute_result"
    }
   ],
   "source": [
    "con_df.isnull().sum()"
   ]
  },
  {
   "cell_type": "code",
   "execution_count": 48,
   "metadata": {},
   "outputs": [],
   "source": [
    "con_df.dropna(subset=[response], inplace=True)"
   ]
  },
  {
   "cell_type": "code",
   "execution_count": 49,
   "metadata": {},
   "outputs": [
    {
     "name": "stdout",
     "output_type": "stream",
     "text": [
      "<class 'pandas.core.frame.DataFrame'>\n",
      "Int64Index: 366334 entries, 0 to 366333\n",
      "Data columns (total 2 columns):\n",
      " #   Column     Non-Null Count   Dtype  \n",
      "---  ------     --------------   -----  \n",
      " 0   edge       366334 non-null  object \n",
      " 1   connected  366334 non-null  float64\n",
      "dtypes: float64(1), object(1)\n",
      "memory usage: 8.4+ MB\n"
     ]
    }
   ],
   "source": [
    "con_df.info()"
   ]
  },
  {
   "cell_type": "markdown",
   "metadata": {},
   "source": [
    "#### Let's check some graph details\n",
    "\n",
    "Graph type"
   ]
  },
  {
   "cell_type": "code",
   "execution_count": 50,
   "metadata": {},
   "outputs": [
    {
     "data": {
      "text/plain": [
       "networkx.classes.graph.Graph"
      ]
     },
     "execution_count": 50,
     "metadata": {},
     "output_type": "execute_result"
    }
   ],
   "source": [
    "type(graph)"
   ]
  },
  {
   "cell_type": "code",
   "execution_count": 51,
   "metadata": {},
   "outputs": [
    {
     "data": {
      "text/plain": [
       "False"
      ]
     },
     "execution_count": 51,
     "metadata": {},
     "output_type": "execute_result"
    }
   ],
   "source": [
    "graph.is_directed()"
   ]
  },
  {
   "cell_type": "markdown",
   "metadata": {},
   "source": [
    "Basic information"
   ]
  },
  {
   "cell_type": "code",
   "execution_count": 52,
   "metadata": {},
   "outputs": [
    {
     "name": "stdout",
     "output_type": "stream",
     "text": [
      "Name: \n",
      "Type: Graph\n",
      "Number of nodes: 1005\n",
      "Number of edges: 16706\n",
      "Average degree:  33.2458\n"
     ]
    }
   ],
   "source": [
    "print(nx.info(graph))"
   ]
  },
  {
   "cell_type": "markdown",
   "metadata": {},
   "source": [
    "Edges and nodes"
   ]
  },
  {
   "cell_type": "code",
   "execution_count": 53,
   "metadata": {},
   "outputs": [
    {
     "data": {
      "text/plain": [
       "[(0, 1), (0, 17), (0, 316)]"
      ]
     },
     "execution_count": 53,
     "metadata": {},
     "output_type": "execute_result"
    }
   ],
   "source": [
    "graph.edges()[0:3]"
   ]
  },
  {
   "cell_type": "code",
   "execution_count": 54,
   "metadata": {},
   "outputs": [
    {
     "data": {
      "text/plain": [
       "[0, 1, 2]"
      ]
     },
     "execution_count": 54,
     "metadata": {},
     "output_type": "execute_result"
    }
   ],
   "source": [
    "graph.nodes()[0:3]"
   ]
  },
  {
   "cell_type": "code",
   "execution_count": 55,
   "metadata": {},
   "outputs": [
    {
     "data": {
      "text/plain": [
       "[(0, {'Department': 1, 'ManagementSalary': 0.0}),\n",
       " (1, {'Department': 1, 'ManagementSalary': nan}),\n",
       " (2, {'Department': 21, 'ManagementSalary': nan})]"
      ]
     },
     "execution_count": 55,
     "metadata": {},
     "output_type": "execute_result"
    }
   ],
   "source": [
    "graph.nodes(data=True)[0:3]"
   ]
  },
  {
   "cell_type": "markdown",
   "metadata": {},
   "source": [
    "The attributes are 'Department' and 'ManagementSalary'. We're only concerned with the 'Deparment' attribute since this will be used as community infomration. "
   ]
  },
  {
   "cell_type": "markdown",
   "metadata": {},
   "source": [
    "## Splitting the data"
   ]
  },
  {
   "cell_type": "code",
   "execution_count": 56,
   "metadata": {},
   "outputs": [],
   "source": [
    "X_train, X_test, y_train, y_test = train_test_split(\n",
    "    con_df.drop(labels=[response], axis=1),\n",
    "    con_df[response],\n",
    "    test_size=0.2,\n",
    "    random_state=random_state,\n",
    "    stratify=con_df[[response]]\n",
    ")"
   ]
  },
  {
   "cell_type": "markdown",
   "metadata": {},
   "source": [
    "## Feature Engineering"
   ]
  },
  {
   "cell_type": "markdown",
   "metadata": {},
   "source": [
    "This section focuses on building custom transformers for extracting\n",
    "* purely edge features\n",
    "* community-based edge features \n",
    "\n",
    "If there are additional feature extractions discovered, just append a key-value pair of the function name and the function itself to `valid_extractors`. Then, add the function name when using the custom transformer. Note: this assumes that the new function follows the conventional syntax of the currently implemented extractors.\n",
    "\n",
    "#### Custom Transformer: purely edge features"
   ]
  },
  {
   "cell_type": "code",
   "execution_count": 57,
   "metadata": {},
   "outputs": [],
   "source": [
    "class EdgeFeaturesTransformer(BaseEstimator, TransformerMixin):\n",
    "    \n",
    "    valid_extractors = {\n",
    "        'jaccard': nx.jaccard_coefficient, \n",
    "        'r_alloc': nx.resource_allocation_index,\n",
    "        'p_attach': nx.preferential_attachment,\n",
    "    }\n",
    "\n",
    "\n",
    "    def __init__(self, graph, func_names):\n",
    "        super().__init__()\n",
    "        \n",
    "        assert sum([(func_name not in self.valid_extractors.keys()) for func_name in func_names]) == 0,\\\n",
    "            f'invalid graph function set, valid options are {valid_extractors.keys()}'\n",
    "        \n",
    "        self.func_names = func_names\n",
    "        self.graph = graph\n",
    "    \n",
    "\n",
    "    def fit(self, X, y=None):\n",
    "        return self\n",
    "\n",
    "        \n",
    "    def transform(self, X, y=None):\n",
    "        \n",
    "        result_df = pd.DataFrame()\n",
    "\n",
    "        for func_name in self.func_names:\n",
    "            func = self.valid_extractors[func_name]\n",
    "            computed_df = pd.DataFrame(\n",
    "                    [i[2] for i in func(graph, X['edge'])], \n",
    "                    columns=[func_name]\n",
    "                )\n",
    "            result_df = pd.concat([result_df, computed_df], axis=1)\n",
    "        \n",
    "            \n",
    "        return result_df\n",
    "    \n",
    "    def get_feature_names(self):\n",
    "        return self.func_names"
   ]
  },
  {
   "cell_type": "markdown",
   "metadata": {},
   "source": [
    "#### Custom Transformer: community-based edge features "
   ]
  },
  {
   "cell_type": "code",
   "execution_count": 58,
   "metadata": {},
   "outputs": [],
   "source": [
    "class ComFeaturesTransformer(BaseEstimator, TransformerMixin):\n",
    "    \n",
    "    valid_extractors = {\n",
    "        'cn_sh': nx.cn_soundarajan_hopcroft,\n",
    "        'ra_sh': nx.ra_index_soundarajan_hopcroft,\n",
    "    }\n",
    "\n",
    "\n",
    "    def __init__(self, graph, func_names, community_name):\n",
    "        super().__init__()\n",
    "        \n",
    "        assert sum([(func_name not in self.valid_extractors.keys()) for func_name in func_names]) == 0,\\\n",
    "            f'invalid graph function set, valid options are {valid_extractors.keys()}'\n",
    "        \n",
    "        self.func_names = func_names\n",
    "        self.community_name = community_name\n",
    "        self.graph = graph\n",
    "    \n",
    "\n",
    "    def fit(self, X, y=None):\n",
    "        return self\n",
    "\n",
    "        \n",
    "    def transform(self, X, y=None):\n",
    "        \n",
    "        result_df = pd.DataFrame()\n",
    "\n",
    "        for func_name in self.func_names:\n",
    "            func = self.valid_extractors[func_name]\n",
    "            \n",
    "            values = list(func(self.graph, community=self.community_name))\n",
    "            \n",
    "            node_value_dict = {(node_a, node_b): value for node_a, node_b, value in values}\n",
    "            node_value_dict_r = {(node_b, node_a): value for node_a, node_b, value in values}\n",
    "            node_value_dict.update(node_value_dict_r)\n",
    "            \n",
    "            computed_df = X['edge'].map(lambda x:node_value_dict[x])\n",
    "            \n",
    "            result_df = pd.concat([result_df, computed_df], axis=1)\n",
    "        \n",
    "            \n",
    "        return result_df\n",
    "    \n",
    "\n",
    "    def get_feature_names(self):\n",
    "        return self.func_names"
   ]
  },
  {
   "cell_type": "markdown",
   "metadata": {},
   "source": [
    "## Modeling"
   ]
  },
  {
   "cell_type": "markdown",
   "metadata": {},
   "source": [
    "### Building pipelines\n",
    "\n",
    "Combine the transformers and model TODO"
   ]
  },
  {
   "cell_type": "markdown",
   "metadata": {},
   "source": [
    "#### Transformers"
   ]
  },
  {
   "cell_type": "code",
   "execution_count": 59,
   "metadata": {},
   "outputs": [],
   "source": [
    "edge_transformers = make_column_transformer(\n",
    "    (EdgeFeaturesTransformer(graph, ['jaccard', 'r_alloc', 'p_attach']), ['edge']),\n",
    "    n_jobs=n_jobs\n",
    ")\n",
    "\n",
    "com_transformers = make_column_transformer(\n",
    "    (ComFeaturesTransformer(graph, ['cn_sh', 'ra_sh'], community_name), ['edge']),\n",
    "    n_jobs=n_jobs\n",
    ")"
   ]
  },
  {
   "cell_type": "markdown",
   "metadata": {},
   "source": [
    "#### Model\n",
    "\n",
    "Settling with random forest classifier only for now. Again, the focus is more on the feature engineering part. If there are other models to be considered, just add them in the pipeline. "
   ]
  },
  {
   "cell_type": "code",
   "execution_count": 60,
   "metadata": {},
   "outputs": [],
   "source": [
    "rf_clf = RandomForestClassifier(\n",
    "    random_state=random_state,\n",
    "    warm_start=True\n",
    ")"
   ]
  },
  {
   "cell_type": "markdown",
   "metadata": {},
   "source": [
    "#### Pipelines"
   ]
  },
  {
   "cell_type": "code",
   "execution_count": 61,
   "metadata": {},
   "outputs": [],
   "source": [
    "# pipeline utilizing only the edge features\n",
    "pipeline_e = Pipeline([\n",
    "    ('preprocessor', edge_transformers),\n",
    "    ('rf_clf', rf_clf)\n",
    "]) \n",
    "\n",
    "# pipeline utilizing only the community-based edge features\n",
    "pipeline_c = Pipeline([\n",
    "    ('preprocessor', com_transformers),\n",
    "    ('rf_clf', rf_clf)\n",
    "]) \n",
    "\n",
    "# pipeline utilizing both\n",
    "union = FeatureUnion([\n",
    "    ('edge', edge_transformers),\n",
    "    ('com', com_transformers)\n",
    "])\n",
    "\n",
    "pipeline_ec = Pipeline([\n",
    "    ('preprocessor', union),\n",
    "    ('rf_clf', rf_clf)\n",
    "]) "
   ]
  },
  {
   "cell_type": "markdown",
   "metadata": {},
   "source": [
    "#### Visualize the pipelines"
   ]
  },
  {
   "cell_type": "code",
   "execution_count": 62,
   "metadata": {},
   "outputs": [],
   "source": [
    "from sklearn import set_config\n",
    "\n",
    "set_config(display='diagram')"
   ]
  },
  {
   "cell_type": "code",
   "execution_count": 63,
   "metadata": {},
   "outputs": [
    {
     "data": {
      "text/html": [
       "<style>div.sk-top-container {color: black;background-color: white;}div.sk-toggleable {background-color: white;}label.sk-toggleable__label {cursor: pointer;display: block;width: 100%;margin-bottom: 0;padding: 0.2em 0.3em;box-sizing: border-box;text-align: center;}div.sk-toggleable__content {max-height: 0;max-width: 0;overflow: hidden;text-align: left;background-color: #f0f8ff;}div.sk-toggleable__content pre {margin: 0.2em;color: black;border-radius: 0.25em;background-color: #f0f8ff;}input.sk-toggleable__control:checked~div.sk-toggleable__content {max-height: 200px;max-width: 100%;overflow: auto;}div.sk-estimator input.sk-toggleable__control:checked~label.sk-toggleable__label {background-color: #d4ebff;}div.sk-label input.sk-toggleable__control:checked~label.sk-toggleable__label {background-color: #d4ebff;}input.sk-hidden--visually {border: 0;clip: rect(1px 1px 1px 1px);clip: rect(1px, 1px, 1px, 1px);height: 1px;margin: -1px;overflow: hidden;padding: 0;position: absolute;width: 1px;}div.sk-estimator {font-family: monospace;background-color: #f0f8ff;margin: 0.25em 0.25em;border: 1px dotted black;border-radius: 0.25em;box-sizing: border-box;}div.sk-estimator:hover {background-color: #d4ebff;}div.sk-parallel-item::after {content: \"\";width: 100%;border-bottom: 1px solid gray;flex-grow: 1;}div.sk-label:hover label.sk-toggleable__label {background-color: #d4ebff;}div.sk-serial::before {content: \"\";position: absolute;border-left: 1px solid gray;box-sizing: border-box;top: 2em;bottom: 0;left: 50%;}div.sk-serial {display: flex;flex-direction: column;align-items: center;background-color: white;}div.sk-item {z-index: 1;}div.sk-parallel {display: flex;align-items: stretch;justify-content: center;background-color: white;}div.sk-parallel-item {display: flex;flex-direction: column;position: relative;background-color: white;}div.sk-parallel-item:first-child::after {align-self: flex-end;width: 50%;}div.sk-parallel-item:last-child::after {align-self: flex-start;width: 50%;}div.sk-parallel-item:only-child::after {width: 0;}div.sk-dashed-wrapped {border: 1px dashed gray;margin: 0.2em;box-sizing: border-box;padding-bottom: 0.1em;background-color: white;position: relative;}div.sk-label label {font-family: monospace;font-weight: bold;background-color: white;display: inline-block;line-height: 1.2em;}div.sk-label-container {position: relative;z-index: 2;text-align: center;}div.sk-container {display: inline-block;position: relative;}</style><div class=\"sk-top-container\"><div class=\"sk-container\"><div class=\"sk-item sk-dashed-wrapped\"><div class=\"sk-label-container\"><div class=\"sk-label sk-toggleable\"><input class=\"sk-toggleable__control sk-hidden--visually\" id=\"c806ed34-6f09-4e02-a324-6e94bd5be198\" type=\"checkbox\" ><label class=\"sk-toggleable__label\" for=\"c806ed34-6f09-4e02-a324-6e94bd5be198\">Pipeline</label><div class=\"sk-toggleable__content\"><pre>Pipeline(steps=[('preprocessor',\n",
       "                 ColumnTransformer(n_jobs=-1,\n",
       "                                   transformers=[('edgefeaturestransformer',\n",
       "                                                  EdgeFeaturesTransformer(func_names=['jaccard',\n",
       "                                                                                      'r_alloc',\n",
       "                                                                                      'p_attach'],\n",
       "                                                                          graph=<networkx.classes.graph.Graph object at 0x7f827971c4e0>),\n",
       "                                                  ['edge'])])),\n",
       "                ('rf_clf',\n",
       "                 RandomForestClassifier(random_state=3, warm_start=True))])</pre></div></div></div><div class=\"sk-serial\"><div class=\"sk-item sk-dashed-wrapped\"><div class=\"sk-label-container\"><div class=\"sk-label sk-toggleable\"><input class=\"sk-toggleable__control sk-hidden--visually\" id=\"a3c67d19-3313-4ed3-8ae3-b35768e8538a\" type=\"checkbox\" ><label class=\"sk-toggleable__label\" for=\"a3c67d19-3313-4ed3-8ae3-b35768e8538a\">preprocessor: ColumnTransformer</label><div class=\"sk-toggleable__content\"><pre>ColumnTransformer(n_jobs=-1,\n",
       "                  transformers=[('edgefeaturestransformer',\n",
       "                                 EdgeFeaturesTransformer(func_names=['jaccard',\n",
       "                                                                     'r_alloc',\n",
       "                                                                     'p_attach'],\n",
       "                                                         graph=<networkx.classes.graph.Graph object at 0x7f827971c4e0>),\n",
       "                                 ['edge'])])</pre></div></div></div><div class=\"sk-parallel\"><div class=\"sk-parallel-item\"><div class=\"sk-item\"><div class=\"sk-label-container\"><div class=\"sk-label sk-toggleable\"><input class=\"sk-toggleable__control sk-hidden--visually\" id=\"66e29ca7-7df0-4886-9710-7ae4199825e1\" type=\"checkbox\" ><label class=\"sk-toggleable__label\" for=\"66e29ca7-7df0-4886-9710-7ae4199825e1\">edgefeaturestransformer</label><div class=\"sk-toggleable__content\"><pre>['edge']</pre></div></div></div><div class=\"sk-serial\"><div class=\"sk-item\"><div class=\"sk-estimator sk-toggleable\"><input class=\"sk-toggleable__control sk-hidden--visually\" id=\"a8790fa8-6213-4923-a1aa-26d5b9b36e67\" type=\"checkbox\" ><label class=\"sk-toggleable__label\" for=\"a8790fa8-6213-4923-a1aa-26d5b9b36e67\">EdgeFeaturesTransformer</label><div class=\"sk-toggleable__content\"><pre>EdgeFeaturesTransformer(func_names=['jaccard', 'r_alloc', 'p_attach'],\n",
       "                        graph=<networkx.classes.graph.Graph object at 0x7f827971c4e0>)</pre></div></div></div></div></div></div></div></div><div class=\"sk-item\"><div class=\"sk-estimator sk-toggleable\"><input class=\"sk-toggleable__control sk-hidden--visually\" id=\"39efd355-8c47-471a-a2cf-f5b893538e47\" type=\"checkbox\" ><label class=\"sk-toggleable__label\" for=\"39efd355-8c47-471a-a2cf-f5b893538e47\">RandomForestClassifier</label><div class=\"sk-toggleable__content\"><pre>RandomForestClassifier(random_state=3, warm_start=True)</pre></div></div></div></div></div></div></div>"
      ],
      "text/plain": [
       "Pipeline(steps=[('preprocessor',\n",
       "                 ColumnTransformer(n_jobs=-1,\n",
       "                                   transformers=[('edgefeaturestransformer',\n",
       "                                                  EdgeFeaturesTransformer(func_names=['jaccard',\n",
       "                                                                                      'r_alloc',\n",
       "                                                                                      'p_attach'],\n",
       "                                                                          graph=<networkx.classes.graph.Graph object at 0x7f827971c4e0>),\n",
       "                                                  ['edge'])])),\n",
       "                ('rf_clf',\n",
       "                 RandomForestClassifier(random_state=3, warm_start=True))])"
      ]
     },
     "execution_count": 63,
     "metadata": {},
     "output_type": "execute_result"
    }
   ],
   "source": [
    "pipeline_e"
   ]
  },
  {
   "cell_type": "code",
   "execution_count": 64,
   "metadata": {},
   "outputs": [
    {
     "data": {
      "text/html": [
       "<style>div.sk-top-container {color: black;background-color: white;}div.sk-toggleable {background-color: white;}label.sk-toggleable__label {cursor: pointer;display: block;width: 100%;margin-bottom: 0;padding: 0.2em 0.3em;box-sizing: border-box;text-align: center;}div.sk-toggleable__content {max-height: 0;max-width: 0;overflow: hidden;text-align: left;background-color: #f0f8ff;}div.sk-toggleable__content pre {margin: 0.2em;color: black;border-radius: 0.25em;background-color: #f0f8ff;}input.sk-toggleable__control:checked~div.sk-toggleable__content {max-height: 200px;max-width: 100%;overflow: auto;}div.sk-estimator input.sk-toggleable__control:checked~label.sk-toggleable__label {background-color: #d4ebff;}div.sk-label input.sk-toggleable__control:checked~label.sk-toggleable__label {background-color: #d4ebff;}input.sk-hidden--visually {border: 0;clip: rect(1px 1px 1px 1px);clip: rect(1px, 1px, 1px, 1px);height: 1px;margin: -1px;overflow: hidden;padding: 0;position: absolute;width: 1px;}div.sk-estimator {font-family: monospace;background-color: #f0f8ff;margin: 0.25em 0.25em;border: 1px dotted black;border-radius: 0.25em;box-sizing: border-box;}div.sk-estimator:hover {background-color: #d4ebff;}div.sk-parallel-item::after {content: \"\";width: 100%;border-bottom: 1px solid gray;flex-grow: 1;}div.sk-label:hover label.sk-toggleable__label {background-color: #d4ebff;}div.sk-serial::before {content: \"\";position: absolute;border-left: 1px solid gray;box-sizing: border-box;top: 2em;bottom: 0;left: 50%;}div.sk-serial {display: flex;flex-direction: column;align-items: center;background-color: white;}div.sk-item {z-index: 1;}div.sk-parallel {display: flex;align-items: stretch;justify-content: center;background-color: white;}div.sk-parallel-item {display: flex;flex-direction: column;position: relative;background-color: white;}div.sk-parallel-item:first-child::after {align-self: flex-end;width: 50%;}div.sk-parallel-item:last-child::after {align-self: flex-start;width: 50%;}div.sk-parallel-item:only-child::after {width: 0;}div.sk-dashed-wrapped {border: 1px dashed gray;margin: 0.2em;box-sizing: border-box;padding-bottom: 0.1em;background-color: white;position: relative;}div.sk-label label {font-family: monospace;font-weight: bold;background-color: white;display: inline-block;line-height: 1.2em;}div.sk-label-container {position: relative;z-index: 2;text-align: center;}div.sk-container {display: inline-block;position: relative;}</style><div class=\"sk-top-container\"><div class=\"sk-container\"><div class=\"sk-item sk-dashed-wrapped\"><div class=\"sk-label-container\"><div class=\"sk-label sk-toggleable\"><input class=\"sk-toggleable__control sk-hidden--visually\" id=\"ebbc1774-9f9a-4afa-ba03-a0bcc0a89efe\" type=\"checkbox\" ><label class=\"sk-toggleable__label\" for=\"ebbc1774-9f9a-4afa-ba03-a0bcc0a89efe\">Pipeline</label><div class=\"sk-toggleable__content\"><pre>Pipeline(steps=[('preprocessor',\n",
       "                 ColumnTransformer(n_jobs=-1,\n",
       "                                   transformers=[('comfeaturestransformer',\n",
       "                                                  ComFeaturesTransformer(community_name='Department',\n",
       "                                                                         func_names=['cn_sh',\n",
       "                                                                                     'ra_sh'],\n",
       "                                                                         graph=<networkx.classes.graph.Graph object at 0x7f827971c4e0>),\n",
       "                                                  ['edge'])])),\n",
       "                ('rf_clf',\n",
       "                 RandomForestClassifier(random_state=3, warm_start=True))])</pre></div></div></div><div class=\"sk-serial\"><div class=\"sk-item sk-dashed-wrapped\"><div class=\"sk-label-container\"><div class=\"sk-label sk-toggleable\"><input class=\"sk-toggleable__control sk-hidden--visually\" id=\"482b5cd7-9694-4634-aa4f-b0985de9e95b\" type=\"checkbox\" ><label class=\"sk-toggleable__label\" for=\"482b5cd7-9694-4634-aa4f-b0985de9e95b\">preprocessor: ColumnTransformer</label><div class=\"sk-toggleable__content\"><pre>ColumnTransformer(n_jobs=-1,\n",
       "                  transformers=[('comfeaturestransformer',\n",
       "                                 ComFeaturesTransformer(community_name='Department',\n",
       "                                                        func_names=['cn_sh',\n",
       "                                                                    'ra_sh'],\n",
       "                                                        graph=<networkx.classes.graph.Graph object at 0x7f827971c4e0>),\n",
       "                                 ['edge'])])</pre></div></div></div><div class=\"sk-parallel\"><div class=\"sk-parallel-item\"><div class=\"sk-item\"><div class=\"sk-label-container\"><div class=\"sk-label sk-toggleable\"><input class=\"sk-toggleable__control sk-hidden--visually\" id=\"3ea3472c-f2bd-411f-a36a-52c5f037bdde\" type=\"checkbox\" ><label class=\"sk-toggleable__label\" for=\"3ea3472c-f2bd-411f-a36a-52c5f037bdde\">comfeaturestransformer</label><div class=\"sk-toggleable__content\"><pre>['edge']</pre></div></div></div><div class=\"sk-serial\"><div class=\"sk-item\"><div class=\"sk-estimator sk-toggleable\"><input class=\"sk-toggleable__control sk-hidden--visually\" id=\"db93df25-63a5-475c-b7bf-a82c4a70175a\" type=\"checkbox\" ><label class=\"sk-toggleable__label\" for=\"db93df25-63a5-475c-b7bf-a82c4a70175a\">ComFeaturesTransformer</label><div class=\"sk-toggleable__content\"><pre>ComFeaturesTransformer(community_name='Department',\n",
       "                       func_names=['cn_sh', 'ra_sh'],\n",
       "                       graph=<networkx.classes.graph.Graph object at 0x7f827971c4e0>)</pre></div></div></div></div></div></div></div></div><div class=\"sk-item\"><div class=\"sk-estimator sk-toggleable\"><input class=\"sk-toggleable__control sk-hidden--visually\" id=\"6a2e4be7-b9e1-430d-9a40-460022b28557\" type=\"checkbox\" ><label class=\"sk-toggleable__label\" for=\"6a2e4be7-b9e1-430d-9a40-460022b28557\">RandomForestClassifier</label><div class=\"sk-toggleable__content\"><pre>RandomForestClassifier(random_state=3, warm_start=True)</pre></div></div></div></div></div></div></div>"
      ],
      "text/plain": [
       "Pipeline(steps=[('preprocessor',\n",
       "                 ColumnTransformer(n_jobs=-1,\n",
       "                                   transformers=[('comfeaturestransformer',\n",
       "                                                  ComFeaturesTransformer(community_name='Department',\n",
       "                                                                         func_names=['cn_sh',\n",
       "                                                                                     'ra_sh'],\n",
       "                                                                         graph=<networkx.classes.graph.Graph object at 0x7f827971c4e0>),\n",
       "                                                  ['edge'])])),\n",
       "                ('rf_clf',\n",
       "                 RandomForestClassifier(random_state=3, warm_start=True))])"
      ]
     },
     "execution_count": 64,
     "metadata": {},
     "output_type": "execute_result"
    }
   ],
   "source": [
    "pipeline_c"
   ]
  },
  {
   "cell_type": "code",
   "execution_count": 65,
   "metadata": {},
   "outputs": [
    {
     "data": {
      "text/html": [
       "<style>div.sk-top-container {color: black;background-color: white;}div.sk-toggleable {background-color: white;}label.sk-toggleable__label {cursor: pointer;display: block;width: 100%;margin-bottom: 0;padding: 0.2em 0.3em;box-sizing: border-box;text-align: center;}div.sk-toggleable__content {max-height: 0;max-width: 0;overflow: hidden;text-align: left;background-color: #f0f8ff;}div.sk-toggleable__content pre {margin: 0.2em;color: black;border-radius: 0.25em;background-color: #f0f8ff;}input.sk-toggleable__control:checked~div.sk-toggleable__content {max-height: 200px;max-width: 100%;overflow: auto;}div.sk-estimator input.sk-toggleable__control:checked~label.sk-toggleable__label {background-color: #d4ebff;}div.sk-label input.sk-toggleable__control:checked~label.sk-toggleable__label {background-color: #d4ebff;}input.sk-hidden--visually {border: 0;clip: rect(1px 1px 1px 1px);clip: rect(1px, 1px, 1px, 1px);height: 1px;margin: -1px;overflow: hidden;padding: 0;position: absolute;width: 1px;}div.sk-estimator {font-family: monospace;background-color: #f0f8ff;margin: 0.25em 0.25em;border: 1px dotted black;border-radius: 0.25em;box-sizing: border-box;}div.sk-estimator:hover {background-color: #d4ebff;}div.sk-parallel-item::after {content: \"\";width: 100%;border-bottom: 1px solid gray;flex-grow: 1;}div.sk-label:hover label.sk-toggleable__label {background-color: #d4ebff;}div.sk-serial::before {content: \"\";position: absolute;border-left: 1px solid gray;box-sizing: border-box;top: 2em;bottom: 0;left: 50%;}div.sk-serial {display: flex;flex-direction: column;align-items: center;background-color: white;}div.sk-item {z-index: 1;}div.sk-parallel {display: flex;align-items: stretch;justify-content: center;background-color: white;}div.sk-parallel-item {display: flex;flex-direction: column;position: relative;background-color: white;}div.sk-parallel-item:first-child::after {align-self: flex-end;width: 50%;}div.sk-parallel-item:last-child::after {align-self: flex-start;width: 50%;}div.sk-parallel-item:only-child::after {width: 0;}div.sk-dashed-wrapped {border: 1px dashed gray;margin: 0.2em;box-sizing: border-box;padding-bottom: 0.1em;background-color: white;position: relative;}div.sk-label label {font-family: monospace;font-weight: bold;background-color: white;display: inline-block;line-height: 1.2em;}div.sk-label-container {position: relative;z-index: 2;text-align: center;}div.sk-container {display: inline-block;position: relative;}</style><div class=\"sk-top-container\"><div class=\"sk-container\"><div class=\"sk-item sk-dashed-wrapped\"><div class=\"sk-label-container\"><div class=\"sk-label sk-toggleable\"><input class=\"sk-toggleable__control sk-hidden--visually\" id=\"9468229c-2b9c-4240-9496-7c52a64ec502\" type=\"checkbox\" ><label class=\"sk-toggleable__label\" for=\"9468229c-2b9c-4240-9496-7c52a64ec502\">Pipeline</label><div class=\"sk-toggleable__content\"><pre>Pipeline(steps=[('preprocessor',\n",
       "                 FeatureUnion(transformer_list=[('edge',\n",
       "                                                 ColumnTransformer(n_jobs=-1,\n",
       "                                                                   transformers=[('edgefeaturestransformer',\n",
       "                                                                                  EdgeFeaturesTransformer(func_names=['jaccard',\n",
       "                                                                                                                      'r_alloc',\n",
       "                                                                                                                      'p_attach'],\n",
       "                                                                                                          graph=<networkx.classes.graph.Graph object at 0x7f827971c4e0>),\n",
       "                                                                                  ['edge'])])),\n",
       "                                                ('com',\n",
       "                                                 ColumnTransformer(n_jobs=-1,\n",
       "                                                                   transformers=[('comfeaturestransformer',\n",
       "                                                                                  ComFeaturesTransformer(community_name='Department',\n",
       "                                                                                                         func_names=['cn_sh',\n",
       "                                                                                                                     'ra_sh'],\n",
       "                                                                                                         graph=<networkx.classes.graph.Graph object at 0x7f827971c4e0>),\n",
       "                                                                                  ['edge'])]))])),\n",
       "                ('rf_clf',\n",
       "                 RandomForestClassifier(random_state=3, warm_start=True))])</pre></div></div></div><div class=\"sk-serial\"><div class=\"sk-item sk-dashed-wrapped\"><div class=\"sk-label-container\"><div class=\"sk-label sk-toggleable\"><input class=\"sk-toggleable__control sk-hidden--visually\" id=\"23f66943-4cb6-4a87-b8c4-b30a9852b0b9\" type=\"checkbox\" ><label class=\"sk-toggleable__label\" for=\"23f66943-4cb6-4a87-b8c4-b30a9852b0b9\">preprocessor: FeatureUnion</label><div class=\"sk-toggleable__content\"><pre>FeatureUnion(transformer_list=[('edge',\n",
       "                                ColumnTransformer(n_jobs=-1,\n",
       "                                                  transformers=[('edgefeaturestransformer',\n",
       "                                                                 EdgeFeaturesTransformer(func_names=['jaccard',\n",
       "                                                                                                     'r_alloc',\n",
       "                                                                                                     'p_attach'],\n",
       "                                                                                         graph=<networkx.classes.graph.Graph object at 0x7f827971c4e0>),\n",
       "                                                                 ['edge'])])),\n",
       "                               ('com',\n",
       "                                ColumnTransformer(n_jobs=-1,\n",
       "                                                  transformers=[('comfeaturestransformer',\n",
       "                                                                 ComFeaturesTransformer(community_name='Department',\n",
       "                                                                                        func_names=['cn_sh',\n",
       "                                                                                                    'ra_sh'],\n",
       "                                                                                        graph=<networkx.classes.graph.Graph object at 0x7f827971c4e0>),\n",
       "                                                                 ['edge'])]))])</pre></div></div></div><div class=\"sk-parallel\"><div class=\"sk-parallel-item\"><div class=\"sk-item\"><div class=\"sk-label-container\"><div class=\"sk-label sk-toggleable\"><label>edge</label></div></div><div class=\"sk-serial\"><div class=\"sk-item sk-dashed-wrapped\"><div class=\"sk-parallel\"><div class=\"sk-parallel-item\"><div class=\"sk-item\"><div class=\"sk-label-container\"><div class=\"sk-label sk-toggleable\"><input class=\"sk-toggleable__control sk-hidden--visually\" id=\"8d9c8b33-06d8-41e8-9682-6db3d5e7121f\" type=\"checkbox\" ><label class=\"sk-toggleable__label\" for=\"8d9c8b33-06d8-41e8-9682-6db3d5e7121f\">edgefeaturestransformer</label><div class=\"sk-toggleable__content\"><pre>['edge']</pre></div></div></div><div class=\"sk-serial\"><div class=\"sk-item\"><div class=\"sk-estimator sk-toggleable\"><input class=\"sk-toggleable__control sk-hidden--visually\" id=\"faa65df6-f83e-4c9f-9ea4-ad483886c5fe\" type=\"checkbox\" ><label class=\"sk-toggleable__label\" for=\"faa65df6-f83e-4c9f-9ea4-ad483886c5fe\">EdgeFeaturesTransformer</label><div class=\"sk-toggleable__content\"><pre>EdgeFeaturesTransformer(func_names=['jaccard', 'r_alloc', 'p_attach'],\n",
       "                        graph=<networkx.classes.graph.Graph object at 0x7f827971c4e0>)</pre></div></div></div></div></div></div></div></div></div></div></div><div class=\"sk-parallel-item\"><div class=\"sk-item\"><div class=\"sk-label-container\"><div class=\"sk-label sk-toggleable\"><label>com</label></div></div><div class=\"sk-serial\"><div class=\"sk-item sk-dashed-wrapped\"><div class=\"sk-parallel\"><div class=\"sk-parallel-item\"><div class=\"sk-item\"><div class=\"sk-label-container\"><div class=\"sk-label sk-toggleable\"><input class=\"sk-toggleable__control sk-hidden--visually\" id=\"1e9a1bb4-5b5d-4fe6-b9cf-311701895988\" type=\"checkbox\" ><label class=\"sk-toggleable__label\" for=\"1e9a1bb4-5b5d-4fe6-b9cf-311701895988\">comfeaturestransformer</label><div class=\"sk-toggleable__content\"><pre>['edge']</pre></div></div></div><div class=\"sk-serial\"><div class=\"sk-item\"><div class=\"sk-estimator sk-toggleable\"><input class=\"sk-toggleable__control sk-hidden--visually\" id=\"f0542d74-a2c4-4edf-aa30-cd061d2e145b\" type=\"checkbox\" ><label class=\"sk-toggleable__label\" for=\"f0542d74-a2c4-4edf-aa30-cd061d2e145b\">ComFeaturesTransformer</label><div class=\"sk-toggleable__content\"><pre>ComFeaturesTransformer(community_name='Department',\n",
       "                       func_names=['cn_sh', 'ra_sh'],\n",
       "                       graph=<networkx.classes.graph.Graph object at 0x7f827971c4e0>)</pre></div></div></div></div></div></div></div></div></div></div></div></div></div><div class=\"sk-item\"><div class=\"sk-estimator sk-toggleable\"><input class=\"sk-toggleable__control sk-hidden--visually\" id=\"1d625c7b-fc91-40a4-bcd8-993500ff5d1c\" type=\"checkbox\" ><label class=\"sk-toggleable__label\" for=\"1d625c7b-fc91-40a4-bcd8-993500ff5d1c\">RandomForestClassifier</label><div class=\"sk-toggleable__content\"><pre>RandomForestClassifier(random_state=3, warm_start=True)</pre></div></div></div></div></div></div></div>"
      ],
      "text/plain": [
       "Pipeline(steps=[('preprocessor',\n",
       "                 FeatureUnion(transformer_list=[('edge',\n",
       "                                                 ColumnTransformer(n_jobs=-1,\n",
       "                                                                   transformers=[('edgefeaturestransformer',\n",
       "                                                                                  EdgeFeaturesTransformer(func_names=['jaccard',\n",
       "                                                                                                                      'r_alloc',\n",
       "                                                                                                                      'p_attach'],\n",
       "                                                                                                          graph=<networkx.classes.graph.Graph object at 0x7f827971c4e0>),\n",
       "                                                                                  ['edge'])])),\n",
       "                                                ('com',\n",
       "                                                 ColumnTransformer(n_jobs=-1,\n",
       "                                                                   transformers=[('comfeaturestransformer',\n",
       "                                                                                  ComFeaturesTransformer(community_name='Department',\n",
       "                                                                                                         func_names=['cn_sh',\n",
       "                                                                                                                     'ra_sh'],\n",
       "                                                                                                         graph=<networkx.classes.graph.Graph object at 0x7f827971c4e0>),\n",
       "                                                                                  ['edge'])]))])),\n",
       "                ('rf_clf',\n",
       "                 RandomForestClassifier(random_state=3, warm_start=True))])"
      ]
     },
     "execution_count": 65,
     "metadata": {},
     "output_type": "execute_result"
    }
   ],
   "source": [
    "pipeline_ec"
   ]
  },
  {
   "cell_type": "markdown",
   "metadata": {},
   "source": [
    "### Selecting model and model hyper-parameters"
   ]
  },
  {
   "cell_type": "markdown",
   "metadata": {},
   "source": [
    "#### Defining hyper-parameter candidates"
   ]
  },
  {
   "cell_type": "code",
   "execution_count": 66,
   "metadata": {},
   "outputs": [],
   "source": [
    "# define the hyper-parameters\n",
    "param_grid = dict(\n",
    "    rf_clf__n_estimators=[10, 50, 100],\n",
    "#     rf_clf__max_depth=[2, 6, 10]\n",
    "    # rf_clf__max_features = [] - this should be explored when we have high-dimensional data\n",
    ")"
   ]
  },
  {
   "cell_type": "markdown",
   "metadata": {},
   "source": [
    "#### Modeling and selecting model based on defined score"
   ]
  },
  {
   "cell_type": "code",
   "execution_count": 67,
   "metadata": {},
   "outputs": [],
   "source": [
    "grid_e = GridSearchCV(\n",
    "    estimator=pipeline_e,\n",
    "    param_grid=param_grid,\n",
    "    scoring=scoring,\n",
    "    n_jobs=n_jobs,\n",
    "    verbose=8,\n",
    "    cv=cv\n",
    ")\n",
    "\n",
    "grid_c = GridSearchCV(\n",
    "    estimator=pipeline_c,\n",
    "    param_grid=param_grid,\n",
    "    scoring=scoring,\n",
    "    n_jobs=n_jobs,\n",
    "    verbose=8,\n",
    "    cv=cv\n",
    ")\n",
    "\n",
    "grid_ec = GridSearchCV(\n",
    "    estimator=pipeline_ec,\n",
    "    param_grid=param_grid,\n",
    "    scoring=scoring,\n",
    "    n_jobs=n_jobs,\n",
    "    verbose=8,\n",
    "    cv=cv\n",
    ")"
   ]
  },
  {
   "cell_type": "markdown",
   "metadata": {},
   "source": [
    "Defining `grids` dictionary to be more organized"
   ]
  },
  {
   "cell_type": "code",
   "execution_count": 68,
   "metadata": {},
   "outputs": [],
   "source": [
    "grids = {\n",
    "    'edge':  grid_e,\n",
    "    'com':   grid_c,\n",
    "    'union': grid_ec\n",
    "}"
   ]
  },
  {
   "cell_type": "markdown",
   "metadata": {},
   "source": [
    "Sanity check of the whole pipeline (union pipeline)"
   ]
  },
  {
   "cell_type": "code",
   "execution_count": 69,
   "metadata": {},
   "outputs": [
    {
     "data": {
      "text/html": [
       "<style>div.sk-top-container {color: black;background-color: white;}div.sk-toggleable {background-color: white;}label.sk-toggleable__label {cursor: pointer;display: block;width: 100%;margin-bottom: 0;padding: 0.2em 0.3em;box-sizing: border-box;text-align: center;}div.sk-toggleable__content {max-height: 0;max-width: 0;overflow: hidden;text-align: left;background-color: #f0f8ff;}div.sk-toggleable__content pre {margin: 0.2em;color: black;border-radius: 0.25em;background-color: #f0f8ff;}input.sk-toggleable__control:checked~div.sk-toggleable__content {max-height: 200px;max-width: 100%;overflow: auto;}div.sk-estimator input.sk-toggleable__control:checked~label.sk-toggleable__label {background-color: #d4ebff;}div.sk-label input.sk-toggleable__control:checked~label.sk-toggleable__label {background-color: #d4ebff;}input.sk-hidden--visually {border: 0;clip: rect(1px 1px 1px 1px);clip: rect(1px, 1px, 1px, 1px);height: 1px;margin: -1px;overflow: hidden;padding: 0;position: absolute;width: 1px;}div.sk-estimator {font-family: monospace;background-color: #f0f8ff;margin: 0.25em 0.25em;border: 1px dotted black;border-radius: 0.25em;box-sizing: border-box;}div.sk-estimator:hover {background-color: #d4ebff;}div.sk-parallel-item::after {content: \"\";width: 100%;border-bottom: 1px solid gray;flex-grow: 1;}div.sk-label:hover label.sk-toggleable__label {background-color: #d4ebff;}div.sk-serial::before {content: \"\";position: absolute;border-left: 1px solid gray;box-sizing: border-box;top: 2em;bottom: 0;left: 50%;}div.sk-serial {display: flex;flex-direction: column;align-items: center;background-color: white;}div.sk-item {z-index: 1;}div.sk-parallel {display: flex;align-items: stretch;justify-content: center;background-color: white;}div.sk-parallel-item {display: flex;flex-direction: column;position: relative;background-color: white;}div.sk-parallel-item:first-child::after {align-self: flex-end;width: 50%;}div.sk-parallel-item:last-child::after {align-self: flex-start;width: 50%;}div.sk-parallel-item:only-child::after {width: 0;}div.sk-dashed-wrapped {border: 1px dashed gray;margin: 0.2em;box-sizing: border-box;padding-bottom: 0.1em;background-color: white;position: relative;}div.sk-label label {font-family: monospace;font-weight: bold;background-color: white;display: inline-block;line-height: 1.2em;}div.sk-label-container {position: relative;z-index: 2;text-align: center;}div.sk-container {display: inline-block;position: relative;}</style><div class=\"sk-top-container\"><div class=\"sk-container\"><div class=\"sk-item sk-dashed-wrapped\"><div class=\"sk-label-container\"><div class=\"sk-label sk-toggleable\"><input class=\"sk-toggleable__control sk-hidden--visually\" id=\"688e4115-b3f0-4199-9729-d1652459abe3\" type=\"checkbox\" ><label class=\"sk-toggleable__label\" for=\"688e4115-b3f0-4199-9729-d1652459abe3\">GridSearchCV</label><div class=\"sk-toggleable__content\"><pre>GridSearchCV(cv=5,\n",
       "             estimator=Pipeline(steps=[('preprocessor',\n",
       "                                        FeatureUnion(transformer_list=[('edge',\n",
       "                                                                        ColumnTransformer(n_jobs=-1,\n",
       "                                                                                          transformers=[('edgefeaturestransformer',\n",
       "                                                                                                         EdgeFeaturesTransformer(func_names=['jaccard',\n",
       "                                                                                                                                             'r_alloc',\n",
       "                                                                                                                                             'p_attach'],\n",
       "                                                                                                                                 graph=<networkx.classes.graph.Graph object at 0x7f827971c4e0>),\n",
       "                                                                                                         ['edge'])])),\n",
       "                                                                       ('com',\n",
       "                                                                        ColumnTransformer(n_jobs=-1,\n",
       "                                                                                          transf...omfeaturestransformer',\n",
       "                                                                                                         ComFeaturesTransformer(community_name='Department',\n",
       "                                                                                                                                func_names=['cn_sh',\n",
       "                                                                                                                                            'ra_sh'],\n",
       "                                                                                                                                graph=<networkx.classes.graph.Graph object at 0x7f827971c4e0>),\n",
       "                                                                                                         ['edge'])]))])),\n",
       "                                       ('rf_clf',\n",
       "                                        RandomForestClassifier(random_state=3,\n",
       "                                                               warm_start=True))]),\n",
       "             n_jobs=-1,\n",
       "             param_grid={'rf_clf__max_depth': [2],\n",
       "                         'rf_clf__n_estimators': [10]},\n",
       "             scoring='roc_auc', verbose=8)</pre></div></div></div><div class=\"sk-parallel\"><div class=\"sk-parallel-item\"><div class=\"sk-item\"><div class=\"sk-serial\"><div class=\"sk-item\"><div class=\"sk-serial\"><div class=\"sk-item sk-dashed-wrapped\"><div class=\"sk-label-container\"><div class=\"sk-label sk-toggleable\"><input class=\"sk-toggleable__control sk-hidden--visually\" id=\"f624c761-6ef8-4d47-8c58-f990aa1653e7\" type=\"checkbox\" ><label class=\"sk-toggleable__label\" for=\"f624c761-6ef8-4d47-8c58-f990aa1653e7\">preprocessor: FeatureUnion</label><div class=\"sk-toggleable__content\"><pre>FeatureUnion(transformer_list=[('edge',\n",
       "                                ColumnTransformer(n_jobs=-1,\n",
       "                                                  transformers=[('edgefeaturestransformer',\n",
       "                                                                 EdgeFeaturesTransformer(func_names=['jaccard',\n",
       "                                                                                                     'r_alloc',\n",
       "                                                                                                     'p_attach'],\n",
       "                                                                                         graph=<networkx.classes.graph.Graph object at 0x7f827971c4e0>),\n",
       "                                                                 ['edge'])])),\n",
       "                               ('com',\n",
       "                                ColumnTransformer(n_jobs=-1,\n",
       "                                                  transformers=[('comfeaturestransformer',\n",
       "                                                                 ComFeaturesTransformer(community_name='Department',\n",
       "                                                                                        func_names=['cn_sh',\n",
       "                                                                                                    'ra_sh'],\n",
       "                                                                                        graph=<networkx.classes.graph.Graph object at 0x7f827971c4e0>),\n",
       "                                                                 ['edge'])]))])</pre></div></div></div><div class=\"sk-parallel\"><div class=\"sk-parallel-item\"><div class=\"sk-item\"><div class=\"sk-label-container\"><div class=\"sk-label sk-toggleable\"><label>edge</label></div></div><div class=\"sk-serial\"><div class=\"sk-item sk-dashed-wrapped\"><div class=\"sk-parallel\"><div class=\"sk-parallel-item\"><div class=\"sk-item\"><div class=\"sk-label-container\"><div class=\"sk-label sk-toggleable\"><input class=\"sk-toggleable__control sk-hidden--visually\" id=\"b2ba1a2c-33e6-465b-b09c-8931f45b6bdc\" type=\"checkbox\" ><label class=\"sk-toggleable__label\" for=\"b2ba1a2c-33e6-465b-b09c-8931f45b6bdc\">edgefeaturestransformer</label><div class=\"sk-toggleable__content\"><pre>['edge']</pre></div></div></div><div class=\"sk-serial\"><div class=\"sk-item\"><div class=\"sk-estimator sk-toggleable\"><input class=\"sk-toggleable__control sk-hidden--visually\" id=\"b8863896-ad68-4ae6-b51f-958e98347bd6\" type=\"checkbox\" ><label class=\"sk-toggleable__label\" for=\"b8863896-ad68-4ae6-b51f-958e98347bd6\">EdgeFeaturesTransformer</label><div class=\"sk-toggleable__content\"><pre>EdgeFeaturesTransformer(func_names=['jaccard', 'r_alloc', 'p_attach'],\n",
       "                        graph=<networkx.classes.graph.Graph object at 0x7f827971c4e0>)</pre></div></div></div></div></div></div></div></div></div></div></div><div class=\"sk-parallel-item\"><div class=\"sk-item\"><div class=\"sk-label-container\"><div class=\"sk-label sk-toggleable\"><label>com</label></div></div><div class=\"sk-serial\"><div class=\"sk-item sk-dashed-wrapped\"><div class=\"sk-parallel\"><div class=\"sk-parallel-item\"><div class=\"sk-item\"><div class=\"sk-label-container\"><div class=\"sk-label sk-toggleable\"><input class=\"sk-toggleable__control sk-hidden--visually\" id=\"927a0143-5309-4b62-a3fe-d98cbb12a795\" type=\"checkbox\" ><label class=\"sk-toggleable__label\" for=\"927a0143-5309-4b62-a3fe-d98cbb12a795\">comfeaturestransformer</label><div class=\"sk-toggleable__content\"><pre>['edge']</pre></div></div></div><div class=\"sk-serial\"><div class=\"sk-item\"><div class=\"sk-estimator sk-toggleable\"><input class=\"sk-toggleable__control sk-hidden--visually\" id=\"fc0980e2-0f16-4cbe-b570-34fc8a170cfc\" type=\"checkbox\" ><label class=\"sk-toggleable__label\" for=\"fc0980e2-0f16-4cbe-b570-34fc8a170cfc\">ComFeaturesTransformer</label><div class=\"sk-toggleable__content\"><pre>ComFeaturesTransformer(community_name='Department',\n",
       "                       func_names=['cn_sh', 'ra_sh'],\n",
       "                       graph=<networkx.classes.graph.Graph object at 0x7f827971c4e0>)</pre></div></div></div></div></div></div></div></div></div></div></div></div></div><div class=\"sk-item\"><div class=\"sk-estimator sk-toggleable\"><input class=\"sk-toggleable__control sk-hidden--visually\" id=\"580a7910-4a71-4e0e-80f7-790f5279ca33\" type=\"checkbox\" ><label class=\"sk-toggleable__label\" for=\"580a7910-4a71-4e0e-80f7-790f5279ca33\">RandomForestClassifier</label><div class=\"sk-toggleable__content\"><pre>RandomForestClassifier(random_state=3, warm_start=True)</pre></div></div></div></div></div></div></div></div></div></div></div></div>"
      ],
      "text/plain": [
       "GridSearchCV(cv=5,\n",
       "             estimator=Pipeline(steps=[('preprocessor',\n",
       "                                        FeatureUnion(transformer_list=[('edge',\n",
       "                                                                        ColumnTransformer(n_jobs=-1,\n",
       "                                                                                          transformers=[('edgefeaturestransformer',\n",
       "                                                                                                         EdgeFeaturesTransformer(func_names=['jaccard',\n",
       "                                                                                                                                             'r_alloc',\n",
       "                                                                                                                                             'p_attach'],\n",
       "                                                                                                                                 graph=<networkx.classes.graph.Graph object at 0x7f827971c4e0>),\n",
       "                                                                                                         ['edge'])])),\n",
       "                                                                       ('com',\n",
       "                                                                        ColumnTransformer(n_jobs=-1,\n",
       "                                                                                          transf...omfeaturestransformer',\n",
       "                                                                                                         ComFeaturesTransformer(community_name='Department',\n",
       "                                                                                                                                func_names=['cn_sh',\n",
       "                                                                                                                                            'ra_sh'],\n",
       "                                                                                                                                graph=<networkx.classes.graph.Graph object at 0x7f827971c4e0>),\n",
       "                                                                                                         ['edge'])]))])),\n",
       "                                       ('rf_clf',\n",
       "                                        RandomForestClassifier(random_state=3,\n",
       "                                                               warm_start=True))]),\n",
       "             n_jobs=-1,\n",
       "             param_grid={'rf_clf__max_depth': [2],\n",
       "                         'rf_clf__n_estimators': [10]},\n",
       "             scoring='roc_auc', verbose=8)"
      ]
     },
     "execution_count": 69,
     "metadata": {},
     "output_type": "execute_result"
    }
   ],
   "source": [
    "grids['union']"
   ]
  },
  {
   "cell_type": "markdown",
   "metadata": {},
   "source": [
    "Fitting the data"
   ]
  },
  {
   "cell_type": "code",
   "execution_count": 70,
   "metadata": {},
   "outputs": [
    {
     "name": "stdout",
     "output_type": "stream",
     "text": [
      "Performing gridsearchCV: union\n",
      "Fitting 5 folds for each of 1 candidates, totalling 5 fits\n"
     ]
    }
   ],
   "source": [
    "for grid_name, grid in grids.items():\n",
    "    print(f'Performing gridsearchCV: {grid_name}')\n",
    "    grid.fit(X_train, y_train)"
   ]
  },
  {
   "cell_type": "markdown",
   "metadata": {},
   "source": [
    "# Assessing the models\n"
   ]
  },
  {
   "cell_type": "markdown",
   "metadata": {},
   "source": [
    "#### model parameters and scores"
   ]
  },
  {
   "cell_type": "code",
   "execution_count": 71,
   "metadata": {},
   "outputs": [
    {
     "name": "stdout",
     "output_type": "stream",
     "text": [
      "\n",
      "    pipeline:          union\n",
      "    best params:       {'rf_clf__max_depth': 2, 'rf_clf__n_estimators': 10}\n",
      "    mean test score:   [0.89576545]\n",
      "    std test score:    [0.00324586]\n",
      "    \n"
     ]
    }
   ],
   "source": [
    "for grid_name, grid in grids.items():\n",
    "    # TODO: add storage of results for further hyper-parameter tuning\n",
    "    \n",
    "    grid.predict(X_test)\n",
    "    print(f\"\"\"\n",
    "    pipeline:          {grid_name}\n",
    "    best params:       {grid.best_params_}\n",
    "    mean test score:   {grid.cv_results_['mean_test_score']}\n",
    "    std test score:    {grid.cv_results_['std_test_score']}\n",
    "    \"\"\")"
   ]
  },
  {
   "cell_type": "markdown",
   "metadata": {},
   "source": [
    "Check the analyze the results. Perform the necessary changes/additions to feature engineering tasks or hyper-parameter improve the model."
   ]
  },
  {
   "cell_type": "markdown",
   "metadata": {},
   "source": [
    "## SHAP and analysis of instances\n",
    "\n",
    "TODO: \n",
    "- Implement shap sampling\n",
    "- Make this Google Colab compatible"
   ]
  },
  {
   "cell_type": "code",
   "execution_count": 31,
   "metadata": {},
   "outputs": [],
   "source": [
    "# assign the model to analyze \n",
    "model = grids['union']"
   ]
  },
  {
   "cell_type": "code",
   "execution_count": 34,
   "metadata": {},
   "outputs": [
    {
     "name": "stderr",
     "output_type": "stream",
     "text": [
      "Using 366334 background data samples could cause slower run times. Consider using shap.sample(data, K) or shap.kmeans(data, K) to summarize the background as K samples.\n"
     ]
    }
   ],
   "source": [
    "X = model.best_estimator_.named_steps['preprocessor'].fit_transform(X_train)\n",
    "explainer = shap.KernelExplainer(model.best_estimator_.named_steps['rf_clf'].predict_proba, X)"
   ]
  },
  {
   "cell_type": "code",
   "execution_count": 35,
   "metadata": {},
   "outputs": [
    {
     "data": {
      "application/vnd.jupyter.widget-view+json": {
       "model_id": "3d31ec6aad994754abb87519194e95d4",
       "version_major": 2,
       "version_minor": 0
      },
      "text/plain": [
       "  0%|          | 0/366334 [00:00<?, ?it/s]"
      ]
     },
     "metadata": {},
     "output_type": "display_data"
    },
    {
     "name": "stderr",
     "output_type": "stream",
     "text": [
      "l1_reg=\"auto\" is deprecated and in the next version (v0.29) the behavior will change from a conditional use of AIC to simply \"num_features(10)\"!\n",
      "l1_reg=\"auto\" is deprecated and in the next version (v0.29) the behavior will change from a conditional use of AIC to simply \"num_features(10)\"!\n",
      "l1_reg=\"auto\" is deprecated and in the next version (v0.29) the behavior will change from a conditional use of AIC to simply \"num_features(10)\"!\n",
      "l1_reg=\"auto\" is deprecated and in the next version (v0.29) the behavior will change from a conditional use of AIC to simply \"num_features(10)\"!\n",
      "l1_reg=\"auto\" is deprecated and in the next version (v0.29) the behavior will change from a conditional use of AIC to simply \"num_features(10)\"!\n",
      "l1_reg=\"auto\" is deprecated and in the next version (v0.29) the behavior will change from a conditional use of AIC to simply \"num_features(10)\"!\n",
      "l1_reg=\"auto\" is deprecated and in the next version (v0.29) the behavior will change from a conditional use of AIC to simply \"num_features(10)\"!\n",
      "l1_reg=\"auto\" is deprecated and in the next version (v0.29) the behavior will change from a conditional use of AIC to simply \"num_features(10)\"!\n",
      "l1_reg=\"auto\" is deprecated and in the next version (v0.29) the behavior will change from a conditional use of AIC to simply \"num_features(10)\"!\n",
      "l1_reg=\"auto\" is deprecated and in the next version (v0.29) the behavior will change from a conditional use of AIC to simply \"num_features(10)\"!\n",
      "l1_reg=\"auto\" is deprecated and in the next version (v0.29) the behavior will change from a conditional use of AIC to simply \"num_features(10)\"!\n",
      "l1_reg=\"auto\" is deprecated and in the next version (v0.29) the behavior will change from a conditional use of AIC to simply \"num_features(10)\"!\n",
      "l1_reg=\"auto\" is deprecated and in the next version (v0.29) the behavior will change from a conditional use of AIC to simply \"num_features(10)\"!\n",
      "l1_reg=\"auto\" is deprecated and in the next version (v0.29) the behavior will change from a conditional use of AIC to simply \"num_features(10)\"!\n"
     ]
    },
    {
     "ename": "KeyboardInterrupt",
     "evalue": "",
     "output_type": "error",
     "traceback": [
      "\u001b[0;31m---------------------------------------------------------------------------\u001b[0m",
      "\u001b[0;31mKeyboardInterrupt\u001b[0m                         Traceback (most recent call last)",
      "\u001b[0;32m<ipython-input-35-f764a88bbadf>\u001b[0m in \u001b[0;36m<module>\u001b[0;34m\u001b[0m\n\u001b[0;32m----> 1\u001b[0;31m \u001b[0mshap_values\u001b[0m \u001b[0;34m=\u001b[0m \u001b[0mexplainer\u001b[0m\u001b[0;34m.\u001b[0m\u001b[0mshap_values\u001b[0m\u001b[0;34m(\u001b[0m\u001b[0mX\u001b[0m\u001b[0;34m)\u001b[0m\u001b[0;34m\u001b[0m\u001b[0m\n\u001b[0m",
      "\u001b[0;32m~/anaconda3/envs/net_analytics_p36/lib/python3.6/site-packages/shap/explainers/kernel.py\u001b[0m in \u001b[0;36mshap_values\u001b[0;34m(self, X, **kwargs)\u001b[0m\n\u001b[1;32m    209\u001b[0m                 \u001b[0;32mif\u001b[0m \u001b[0mself\u001b[0m\u001b[0;34m.\u001b[0m\u001b[0mkeep_index\u001b[0m\u001b[0;34m:\u001b[0m\u001b[0;34m\u001b[0m\u001b[0m\n\u001b[1;32m    210\u001b[0m                     \u001b[0mdata\u001b[0m \u001b[0;34m=\u001b[0m \u001b[0mconvert_to_instance_with_index\u001b[0m\u001b[0;34m(\u001b[0m\u001b[0mdata\u001b[0m\u001b[0;34m,\u001b[0m \u001b[0mcolumn_name\u001b[0m\u001b[0;34m,\u001b[0m \u001b[0mindex_value\u001b[0m\u001b[0;34m[\u001b[0m\u001b[0mi\u001b[0m\u001b[0;34m:\u001b[0m\u001b[0mi\u001b[0m \u001b[0;34m+\u001b[0m \u001b[0;36m1\u001b[0m\u001b[0;34m]\u001b[0m\u001b[0;34m,\u001b[0m \u001b[0mindex_name\u001b[0m\u001b[0;34m)\u001b[0m\u001b[0;34m\u001b[0m\u001b[0m\n\u001b[0;32m--> 211\u001b[0;31m                 \u001b[0mexplanations\u001b[0m\u001b[0;34m.\u001b[0m\u001b[0mappend\u001b[0m\u001b[0;34m(\u001b[0m\u001b[0mself\u001b[0m\u001b[0;34m.\u001b[0m\u001b[0mexplain\u001b[0m\u001b[0;34m(\u001b[0m\u001b[0mdata\u001b[0m\u001b[0;34m,\u001b[0m \u001b[0;34m**\u001b[0m\u001b[0mkwargs\u001b[0m\u001b[0;34m)\u001b[0m\u001b[0;34m)\u001b[0m\u001b[0;34m\u001b[0m\u001b[0m\n\u001b[0m\u001b[1;32m    212\u001b[0m \u001b[0;34m\u001b[0m\u001b[0m\n\u001b[1;32m    213\u001b[0m             \u001b[0;31m# vector-output\u001b[0m\u001b[0;34m\u001b[0m\u001b[0;34m\u001b[0m\u001b[0m\n",
      "\u001b[0;32m~/anaconda3/envs/net_analytics_p36/lib/python3.6/site-packages/shap/explainers/kernel.py\u001b[0m in \u001b[0;36mexplain\u001b[0;34m(self, incoming_instance, **kwargs)\u001b[0m\n\u001b[1;32m    399\u001b[0m \u001b[0;34m\u001b[0m\u001b[0m\n\u001b[1;32m    400\u001b[0m             \u001b[0;31m# execute the model on the synthetic samples we have created\u001b[0m\u001b[0;34m\u001b[0m\u001b[0;34m\u001b[0m\u001b[0m\n\u001b[0;32m--> 401\u001b[0;31m             \u001b[0mself\u001b[0m\u001b[0;34m.\u001b[0m\u001b[0mrun\u001b[0m\u001b[0;34m(\u001b[0m\u001b[0;34m)\u001b[0m\u001b[0;34m\u001b[0m\u001b[0m\n\u001b[0m\u001b[1;32m    402\u001b[0m \u001b[0;34m\u001b[0m\u001b[0m\n\u001b[1;32m    403\u001b[0m             \u001b[0;31m# solve then expand the feature importance (Shapley value) vector to contain the non-varying features\u001b[0m\u001b[0;34m\u001b[0m\u001b[0;34m\u001b[0m\u001b[0m\n",
      "\u001b[0;32m~/anaconda3/envs/net_analytics_p36/lib/python3.6/site-packages/shap/explainers/kernel.py\u001b[0m in \u001b[0;36mrun\u001b[0;34m(self)\u001b[0m\n\u001b[1;32m    539\u001b[0m             \u001b[0meyVal\u001b[0m \u001b[0;34m=\u001b[0m \u001b[0mnp\u001b[0m\u001b[0;34m.\u001b[0m\u001b[0mzeros\u001b[0m\u001b[0;34m(\u001b[0m\u001b[0mself\u001b[0m\u001b[0;34m.\u001b[0m\u001b[0mD\u001b[0m\u001b[0;34m)\u001b[0m\u001b[0;34m\u001b[0m\u001b[0m\n\u001b[1;32m    540\u001b[0m             \u001b[0;32mfor\u001b[0m \u001b[0mj\u001b[0m \u001b[0;32min\u001b[0m \u001b[0mrange\u001b[0m\u001b[0;34m(\u001b[0m\u001b[0;36m0\u001b[0m\u001b[0;34m,\u001b[0m \u001b[0mself\u001b[0m\u001b[0;34m.\u001b[0m\u001b[0mN\u001b[0m\u001b[0;34m)\u001b[0m\u001b[0;34m:\u001b[0m\u001b[0;34m\u001b[0m\u001b[0m\n\u001b[0;32m--> 541\u001b[0;31m                 \u001b[0meyVal\u001b[0m \u001b[0;34m+=\u001b[0m \u001b[0mself\u001b[0m\u001b[0;34m.\u001b[0m\u001b[0my\u001b[0m\u001b[0;34m[\u001b[0m\u001b[0mi\u001b[0m \u001b[0;34m*\u001b[0m \u001b[0mself\u001b[0m\u001b[0;34m.\u001b[0m\u001b[0mN\u001b[0m \u001b[0;34m+\u001b[0m \u001b[0mj\u001b[0m\u001b[0;34m,\u001b[0m \u001b[0;34m:\u001b[0m\u001b[0;34m]\u001b[0m \u001b[0;34m*\u001b[0m \u001b[0mself\u001b[0m\u001b[0;34m.\u001b[0m\u001b[0mdata\u001b[0m\u001b[0;34m.\u001b[0m\u001b[0mweights\u001b[0m\u001b[0;34m[\u001b[0m\u001b[0mj\u001b[0m\u001b[0;34m]\u001b[0m\u001b[0;34m\u001b[0m\u001b[0m\n\u001b[0m\u001b[1;32m    542\u001b[0m \u001b[0;34m\u001b[0m\u001b[0m\n\u001b[1;32m    543\u001b[0m             \u001b[0mself\u001b[0m\u001b[0;34m.\u001b[0m\u001b[0mey\u001b[0m\u001b[0;34m[\u001b[0m\u001b[0mi\u001b[0m\u001b[0;34m,\u001b[0m \u001b[0;34m:\u001b[0m\u001b[0;34m]\u001b[0m \u001b[0;34m=\u001b[0m \u001b[0meyVal\u001b[0m\u001b[0;34m\u001b[0m\u001b[0m\n",
      "\u001b[0;31mKeyboardInterrupt\u001b[0m: "
     ]
    }
   ],
   "source": [
    "shap_values = explainer.shap_values(X)"
   ]
  },
  {
   "cell_type": "markdown",
   "metadata": {},
   "source": [
    "https://shap.readthedocs.io/en/latest/example_notebooks/tabular_examples/model_agnostic/Census%20income%20classification%20with%20scikit-learn.html"
   ]
  },
  {
   "cell_type": "markdown",
   "metadata": {},
   "source": [
    "TODO: \n",
    "- Explore the features of the nodes connected to the edges\n",
    "    - This cwith this ould be quite tricky, I haven't researched about it\n",
    "    - One thing could be the feature sum of the nodes connected to a specific edge, e.g. degree sum of the nodes"
   ]
  }
 ],
 "metadata": {
  "kernelspec": {
   "display_name": "net_analytics_p36",
   "language": "python",
   "name": "net_analytics_p36"
  },
  "language_info": {
   "codemirror_mode": {
    "name": "ipython",
    "version": 3
   },
   "file_extension": ".py",
   "mimetype": "text/x-python",
   "name": "python",
   "nbconvert_exporter": "python",
   "pygments_lexer": "ipython3",
   "version": "3.6.5"
  }
 },
 "nbformat": 4,
 "nbformat_minor": 4
}
